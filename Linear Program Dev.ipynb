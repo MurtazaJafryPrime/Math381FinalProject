{
 "cells": [
  {
   "cell_type": "markdown",
   "id": "c3b9c61b",
   "metadata": {},
   "source": [
    "This notebook is used as a development space for creating/testing the linear program. Requires the programs viability.py, sim_units.py, simulator.py, and initialize_comps.py"
   ]
  },
  {
   "cell_type": "code",
   "execution_count": 1,
   "id": "639a66a2",
   "metadata": {},
   "outputs": [],
   "source": [
    "from pyscipopt import Model, quicksum\n",
    "\n",
    "from viability import viability\n",
    "from sim_units import get_Units, get_Terran, get_Protoss, get_Zerg\n",
    "from simulator import combat_sim\n",
    "from initialize_comps import get_Terran_comps, get_Protoss_comps, get_Zerg_comps\n",
    "from initialize_comps import get_army_supply"
   ]
  },
  {
   "cell_type": "code",
   "execution_count": 2,
   "id": "8b5b6c7c",
   "metadata": {},
   "outputs": [],
   "source": [
    "terran = get_Terran_comps()"
   ]
  },
  {
   "cell_type": "markdown",
   "id": "a52b6d2d",
   "metadata": {},
   "source": [
    "Functions that let us test for the objective functions. Army cost is calculated the same way army value is calculated in game, that is, army cost is the sum of all mineral and gas costs. Time is the summation of all build times."
   ]
  },
  {
   "cell_type": "code",
   "execution_count": 3,
   "id": "9742abf7",
   "metadata": {},
   "outputs": [],
   "source": [
    "def get_army_cost(comp):\n",
    "    \"\"\"\n",
    "    Input is an army compostion\n",
    "    Returns the total cost of all units in that army\n",
    "    Cost is calculated as the sum of each units mineral and gas costs\n",
    "    \"\"\"\n",
    "    Units = get_Units()\n",
    "    total_cost = 0\n",
    "    for name in comp:\n",
    "        unit_cost = Units[name]['mineral'] + Units[name]['gas']\n",
    "        unit_count = comp[name]\n",
    "        total_cost += unit_cost * unit_count\n",
    "    return total_cost"
   ]
  },
  {
   "cell_type": "code",
   "execution_count": 4,
   "id": "8809ecf5",
   "metadata": {},
   "outputs": [],
   "source": [
    "def get_army_time(comp):\n",
    "    \"\"\"\n",
    "    Input is an army composition\n",
    "    Returns the total build time of all units in that army\n",
    "    \"\"\"\n",
    "    Units = get_Units()\n",
    "    total_time = 0\n",
    "    for name in comp:\n",
    "        unit_count = comp[name]\n",
    "        unit_time = Units[name]['time']\n",
    "        total_time += unit_time * unit_count\n",
    "    return total_time"
   ]
  },
  {
   "cell_type": "markdown",
   "id": "9f8d539f",
   "metadata": {},
   "source": [
    "We will start with creating two very similar objective functions, one to minimize cost and the other to minimize time."
   ]
  },
  {
   "cell_type": "code",
   "execution_count": 12,
   "id": "4e1f349e",
   "metadata": {},
   "outputs": [],
   "source": [
    "def find_optimal_army(enemy_comp, test_type='cost', race='Terran', viab='units', supply_cap=200):\n",
    "    \"\"\"\n",
    "    Input is the army composition we are trying to optimize against\n",
    "    test_type is a string, either \"cost\" or \"time\", determines what we\n",
    "    are optimizing for. race is a string, either \"Terran\", \"Protoss\", or \"Zerg\",\n",
    "    that we are creating our test army from.\n",
    "    viab is a string, either 'units', 'health', or 'damage' that determines\n",
    "    our viability function\n",
    "    Finds an army composition of the given race that is the most efficent in terms of test_type\n",
    "    Returns that optimal army composition as a string\n",
    "    \"\"\"\n",
    "    army_model = Model(\"StarCraftII Army\")\n",
    "    comps = None\n",
    "    if race == 'Terran':\n",
    "        all_comps = get_Terran_comps()\n",
    "    elif race == 'Protoss':\n",
    "        all_comps = get_Protoss_comps()\n",
    "    elif race == 'Zerg':\n",
    "        all_comps = get_Zerg_comps()\n",
    "    else:\n",
    "        error_message = \"Race must be either 'Terran', 'Protoss', or 'Zerg'\"\n",
    "        return error_message\n",
    "    \n",
    "    # initialize binary variables for each comp that determines if\n",
    "    # this comp can be picked or not\n",
    "    picked_comps = {}\n",
    "    for comp in all_comps:\n",
    "        comp_name = str(comp)\n",
    "        picked_comps[str(comp)] = army_model.addVar(vtype='B', name='Army Comp' + comp_name)\n",
    "    \n",
    "    for comp in all_comps:\n",
    "        # constraint that army comps must be combat viable\n",
    "        army_model.addCons(picked_comps[str(comp)] <= viability(enemy_comp, comp, viab))\n",
    "        # constraint that army comps must be below supply cap\n",
    "        army_model.addCons(picked_comps[str(comp)] * get_army_supply(comp) <= supply_cap)\n",
    "    # only one comp should be chosen\n",
    "    army_model.addCons(quicksum(picked_comps[str(comp)] for comp in all_comps) == 1)\n",
    "    \n",
    "    # objective function\n",
    "    if test_type == 'cost':\n",
    "        army_model.setObjective(quicksum(picked_comps[str(comp)]*get_army_cost(comp) for comp in all_comps), 'minimize')\n",
    "    elif test_type == 'time':\n",
    "        army_model.setObjective(quicksum(picked_comps[str(comp)]*get_army_time(comp) for comp in all_comps), 'minimize')\n",
    "    \n",
    "    # run linear program\n",
    "    army_model.optimize()\n",
    "    \n",
    "    opt_comp = \"\"\n",
    "    if army_model.getStatus() == \"optimal\":\n",
    "         # find optimal comp and objective function value as a string\n",
    "        for var in army_model.getVars():\n",
    "            if (var.getLPSol() != 0):\n",
    "                opt_comp += str(var) + \", \" + test_type + \"= \" + str(army_model.getObjVal())\n",
    "                opt_comp += \", viability:\" + viab\n",
    "    else:\n",
    "        opt_comp = \"No optimal army could be found\"\n",
    "\n",
    "    return opt_comp"
   ]
  },
  {
   "cell_type": "code",
   "execution_count": 18,
   "id": "dfc0e837",
   "metadata": {},
   "outputs": [],
   "source": [
    "enemy_comp = {}\n",
    "enemy_comp['Marine'] = 3"
   ]
  },
  {
   "cell_type": "code",
   "execution_count": 27,
   "id": "7f38752c",
   "metadata": {},
   "outputs": [],
   "source": [
    "test_model = find_optimal_army(enemy_comp, test_type='time', viab='units') "
   ]
  },
  {
   "cell_type": "code",
   "execution_count": 28,
   "id": "02778337",
   "metadata": {},
   "outputs": [
    {
     "data": {
      "text/plain": [
       "\"Army Comp{'Marine': 4, 'SCV': 0, 'Medivac': 0}, time= 72.0, viability:units\""
      ]
     },
     "execution_count": 28,
     "metadata": {},
     "output_type": "execute_result"
    }
   ],
   "source": [
    "test_model"
   ]
  },
  {
   "cell_type": "code",
   "execution_count": null,
   "id": "f08b4fc5",
   "metadata": {},
   "outputs": [],
   "source": []
  }
 ],
 "metadata": {
  "kernelspec": {
   "display_name": "Python 3 (ipykernel)",
   "language": "python",
   "name": "python3"
  },
  "language_info": {
   "codemirror_mode": {
    "name": "ipython",
    "version": 3
   },
   "file_extension": ".py",
   "mimetype": "text/x-python",
   "name": "python",
   "nbconvert_exporter": "python",
   "pygments_lexer": "ipython3",
   "version": "3.7.10"
  }
 },
 "nbformat": 4,
 "nbformat_minor": 5
}
