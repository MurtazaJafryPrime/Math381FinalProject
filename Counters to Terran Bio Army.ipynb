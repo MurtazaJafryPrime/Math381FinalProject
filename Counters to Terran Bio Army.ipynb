{
 "cells": [
  {
   "cell_type": "markdown",
   "id": "dc03970f",
   "metadata": {},
   "source": [
    "This notebook will use the tools we have created to see what the optimal counter-army is to the Terran Bio build, which revolves around biological units supported by Medivacs. The biological Terran units include the Marine, Marauder, Reaper, and Ghost. Reapers and Ghosts are mainly used for harassment and not large scale battles. A typical Terran Bio build has Marines and Marauders with a ratio around 3:1, and Medivacs with a ratio around 1 Medivac for every 10 or so infantry units. Two common ratios of Marine:Marauder:Medivac are 6:2:1 and 15:5:2. For our purposes, we will be testing the 15:5:2 ratio and optimizing against 45 Marines, 15 Marauders, and 6 Medivacs. This army has a total supply of 87, simulating an early- to mid-game composition. By default, our random army generator creates armies with total supply ranging anywhere between 0 and 200. To reduce the amount of iterations needed to hone in on the optimal solution, we will be limiting our random armies to a supply cap of 120, since we know for certain that pretty much any army with a supply greater than that will be suboptimal (such armies will likely be overkill, or contain too many support units that do not add enough value to the overall army composition).\n",
    "\n",
    "The Terran Bio build is standard because it revolves around Marines which are cheap, one of the first units Terran players can produce, and are extremely versatile as they are fast, ranged, and can attack both ground and air units. Marauders act as meat-shields in addition to extra damage against armored units, and Medivacs provide constant healing to both Marines and Marauders. While the functionality is not included in our combat simulator, Medivacs can also carry a small group of Marines and quickly fly them around the map, making this build useful for harassment in addition to all-out battle."
   ]
  },
  {
   "cell_type": "code",
   "execution_count": 57,
   "id": "1a020193",
   "metadata": {},
   "outputs": [],
   "source": [
    "from sim_units import get_Units, get_Terran, get_Protoss, get_Zerg\n",
    "from generate_comps import get_army_supply, init_army_comps\n",
    "from linear_program import find_optimal_army, get_army_cost\n",
    "from viability import viability\n",
    "import json\n",
    "from joblib import Parallel, delayed\n",
    "import time"
   ]
  },
  {
   "cell_type": "code",
   "execution_count": 52,
   "id": "fdc82324",
   "metadata": {},
   "outputs": [],
   "source": [
    "def find_counters_parallel(army_comp, file_name, race, supply_cap=200, num_tests=10, test_comps=None):\n",
    "    \"\"\"\n",
    "    army_comp is the enemy army composition we are optimizing against\n",
    "    file_name is a string, name of txt file we will save our results to\n",
    "    race:{'Terran', 'Protoss', 'Zerg'} the race we are optimizing for\n",
    "    supply_cap is an integer of the largest army we wish to test\n",
    "    num_tests is an integer, the number of times we wish to run our test\n",
    "    test_comps is a list of army compositions. Optional parameter in case we\n",
    "    want to use that specific list of armies instead of random ones\n",
    "    Creates a file with the army counters\n",
    "    \"\"\"\n",
    "    army_list = []\n",
    "    for i in range(num_tests):\n",
    "        army_list.append(army_comp)\n",
    "    start_time = time.time()\n",
    "    terran_counters = {}\n",
    "    results = Parallel(n_jobs=-1)(delayed(find_optimal_army)(enemy, race, supply_cap=supply_cap,\n",
    "                                                             test_comps=test_comps)\n",
    "                             for enemy in army_list)\n",
    "    run_time = time.time() - start_time\n",
    "    print(run_time)\n",
    "    with open(file_name, 'a') as file:\n",
    "        file.write(\"Enemy army:\")\n",
    "        file.write('\\n')\n",
    "        file.write(str(army_comp))\n",
    "        file.write('\\n')\n",
    "        file.write('\\n')\n",
    "        file.write(str(run_time))\n",
    "        file.write('\\n')\n",
    "        file.write('\\n')\n",
    "        file.write(\"Counters:\")\n",
    "        for line in results:\n",
    "            file.write(line)\n",
    "            file.write('\\n')\n",
    "        file.write('\\n')\n",
    "        file.write('\\n')\n",
    "        file.write('\\n')\n",
    "    return results"
   ]
  },
  {
   "cell_type": "code",
   "execution_count": 3,
   "id": "1d60bbaa",
   "metadata": {},
   "outputs": [],
   "source": [
    "terran_bio = {}\n",
    "terran_bio['Marine'] = 45\n",
    "terran_bio['Marauder'] = 15\n",
    "terran_bio['Medivac'] = 6"
   ]
  },
  {
   "cell_type": "code",
   "execution_count": null,
   "id": "aafce2da",
   "metadata": {},
   "outputs": [],
   "source": [
    "find_counters_parallel(terran_bio, 'terran_bio.txt', 'Terran', supply_cap=125, min_supply=0)"
   ]
  },
  {
   "cell_type": "code",
   "execution_count": null,
   "id": "d29cbe6d",
   "metadata": {
    "scrolled": true
   },
   "outputs": [],
   "source": [
    "for i in range(10):\n",
    "    find_counters_parallel(terran_bio, 'terran_bio.txt', 'Terran', supply_cap=125, min_supply=0)"
   ]
  },
  {
   "cell_type": "markdown",
   "id": "2273e4d6",
   "metadata": {},
   "source": [
    "The following is the output taken from terran_bio.txt. We can see that"
   ]
  },
  {
   "cell_type": "code",
   "execution_count": 28,
   "id": "705a6b42",
   "metadata": {},
   "outputs": [],
   "source": [
    "bio_counters = []"
   ]
  },
  {
   "cell_type": "code",
   "execution_count": 29,
   "id": "632738a2",
   "metadata": {},
   "outputs": [],
   "source": [
    "c1 = {}\n",
    "c1['Marine'] = 122\n",
    "\n",
    "c2 = {}\n",
    "c2['Hellbat'] = 20\n",
    "c2['Viking'] = 27\n",
    "\n",
    "c3 = {}\n",
    "c3['SiegeTank'] = 30\n",
    "\n",
    "c4 = {}\n",
    "c4['SiegeTank'] = 26\n",
    "\n",
    "c5 = {}\n",
    "c5['Cyclone'] = 31\n",
    "\n",
    "c6 = {}\n",
    "c6['SiegeTank'] = 26\n",
    "\n",
    "c7 = {}\n",
    "c7['Thor'] = 17\n",
    "c7['Viking'] = 1\n",
    "\n",
    "c8 = {}\n",
    "c8['Hellbat'] = 53\n",
    "\n",
    "c9 = {}\n",
    "c9['Marine'] = 46\n",
    "c9['Hellion'] = 14\n",
    "c9['Liberator'] = 2\n",
    "\n",
    "c10 = {}\n",
    "c10['Hellion'] = 48"
   ]
  },
  {
   "cell_type": "code",
   "execution_count": 30,
   "id": "823e5f28",
   "metadata": {},
   "outputs": [],
   "source": [
    "bio_counters.append(c1)\n",
    "bio_counters.append(c2)\n",
    "bio_counters.append(c3)\n",
    "bio_counters.append(c4)\n",
    "bio_counters.append(c5)\n",
    "bio_counters.append(c6)\n",
    "bio_counters.append(c7)\n",
    "bio_counters.append(c8)\n",
    "bio_counters.append(c9)\n",
    "bio_counters.append(c10)"
   ]
  },
  {
   "cell_type": "code",
   "execution_count": 31,
   "id": "46b23c24",
   "metadata": {},
   "outputs": [],
   "source": [
    "c11 = {}\n",
    "c11['Marauder'] = 22\n",
    "\n",
    "c12 = {}\n",
    "c12['Thor'] = 2\n",
    "\n",
    "c13 = {}\n",
    "c13['SiegeTank'] = 25\n",
    "\n",
    "c14 = {}\n",
    "c14['Hellbat'] = 30\n",
    "\n",
    "c15 = {}\n",
    "c15['Hellion'] = 21\n",
    "c15['Marauder'] = 1\n",
    "c15['Reaper'] = 58\n",
    "\n",
    "c16 = {}\n",
    "c16['Ghost'] = 40\n",
    "\n",
    "c17 = {}\n",
    "c17['Reaper'] = 71\n",
    "c17['Cyclone'] = 10\n",
    "\n",
    "c18 = {}\n",
    "c18['Medivac'] = 5\n",
    "c18['Banshee'] = 24\n",
    "\n",
    "c19 = {}\n",
    "c19['Reaper'] = 104\n",
    "\n",
    "c20 = {}\n",
    "c20['Reaper'] = 115"
   ]
  },
  {
   "cell_type": "code",
   "execution_count": 32,
   "id": "997335d4",
   "metadata": {},
   "outputs": [],
   "source": [
    "bio_counters.append(c11)\n",
    "bio_counters.append(c12)\n",
    "bio_counters.append(c13)\n",
    "bio_counters.append(c14)\n",
    "bio_counters.append(c15)\n",
    "bio_counters.append(c16)\n",
    "bio_counters.append(c17)\n",
    "bio_counters.append(c18)\n",
    "bio_counters.append(c19)\n",
    "bio_counters.append(c20)"
   ]
  },
  {
   "cell_type": "code",
   "execution_count": 33,
   "id": "c2a40ac4",
   "metadata": {},
   "outputs": [],
   "source": [
    "c21 = {}\n",
    "c21['Hellion'] = 7\n",
    "c21['Marauder'] = 33\n",
    "c21['Battlecruiser'] = 2\n",
    "\n",
    "c22 = {}\n",
    "c22['Hellion'] = 27\n",
    "c22['Thor'] = 8\n",
    "\n",
    "c23 = {}\n",
    "c23['Liberator'] = 28\n",
    "\n",
    "c24 = {}\n",
    "c24['Marauder'] = 28\n",
    "c24['Banshee'] = 7\n",
    "\n",
    "c25 = {}\n",
    "c25['Marauder'] = 52\n",
    "\n",
    "c26 = {}\n",
    "c26['Banshee'] = 35\n",
    "\n",
    "c27 = {}\n",
    "c27['Medivac'] = 20\n",
    "c27['Banshee'] = 23\n",
    "\n",
    "c28 = {}\n",
    "c28['SiegeTank'] = 25\n",
    "\n",
    "c29 = {}\n",
    "c29['Hellion'] = 30\n",
    "c29['Ghost'] = 16\n",
    "\n",
    "c30 = {}\n",
    "c30['Ghost'] = 21\n",
    "c30['Hellbat'] = 20"
   ]
  },
  {
   "cell_type": "code",
   "execution_count": 34,
   "id": "a00afe9a",
   "metadata": {},
   "outputs": [],
   "source": [
    "bio_counters.append(c21)\n",
    "bio_counters.append(c22)\n",
    "bio_counters.append(c23)\n",
    "bio_counters.append(c24)\n",
    "bio_counters.append(c25)\n",
    "bio_counters.append(c26)\n",
    "bio_counters.append(c27)\n",
    "bio_counters.append(c28)\n",
    "bio_counters.append(c29)\n",
    "bio_counters.append(c30)"
   ]
  },
  {
   "cell_type": "code",
   "execution_count": 35,
   "id": "4fdb090b",
   "metadata": {},
   "outputs": [],
   "source": [
    "c31 = {}\n",
    "c31['Marauder'] = 48\n",
    "c31['Banshee'] = 1\n",
    "\n",
    "c32 = {}\n",
    "c32['Hellbat'] = 46\n",
    "\n",
    "c33 = {}\n",
    "c33['Liberator'] = 9\n",
    "c33['SiegeTank'] = 20\n",
    "\n",
    "c34 = {}\n",
    "c34['Ghost'] = 30\n",
    "c34['Banshee'] = 14\n",
    "\n",
    "c35 = {}\n",
    "c35['Liberator'] = 37\n",
    "\n",
    "c36 = {}\n",
    "c36['Liberator'] = 24\n",
    "\n",
    "c37 = {}\n",
    "c37['SiegeTank'] = 20\n",
    "c37['Thor'] = 3\n",
    "\n",
    "c38 = {}\n",
    "c38['Reaper'] = 42\n",
    "c38['Liberator'] = 18\n",
    "\n",
    "c39 = {}\n",
    "c39['Marauder'] = 54\n",
    "\n",
    "c40 = {}\n",
    "c40['Medivac'] = 19\n",
    "c40['Reaper'] = 73"
   ]
  },
  {
   "cell_type": "code",
   "execution_count": 36,
   "id": "316374cc",
   "metadata": {},
   "outputs": [],
   "source": [
    "bio_counters.append(c31)\n",
    "bio_counters.append(c32)\n",
    "bio_counters.append(c33)\n",
    "bio_counters.append(c34)\n",
    "bio_counters.append(c35)\n",
    "bio_counters.append(c36)\n",
    "bio_counters.append(c37)\n",
    "bio_counters.append(c38)\n",
    "bio_counters.append(c39)\n",
    "bio_counters.append(c40)"
   ]
  },
  {
   "cell_type": "code",
   "execution_count": 37,
   "id": "cbff451e",
   "metadata": {},
   "outputs": [],
   "source": [
    "c41 = {}\n",
    "c41['Cyclone'] = 38\n",
    "\n",
    "c42 = {}\n",
    "c42['Marine'] = 53\n",
    "c42['Hellion'] = 9\n",
    "\n",
    "c43 = {}\n",
    "c43['Reaper'] = 57\n",
    "c43['SiegeTank'] = 5\n",
    "\n",
    "c44 = {}\n",
    "c44['Hellbat'] = 42\n",
    "\n",
    "c45 = {}\n",
    "c45['Banshee'] = 40\n",
    "\n",
    "c46 = {}\n",
    "c46['Hellion'] = 19\n",
    "c46['Battlecruiser'] = 3\n",
    "\n",
    "c47 = {}\n",
    "c47['Medivac'] = 10\n",
    "c47['Hellbat'] = 35\n",
    "\n",
    "c48 = {}\n",
    "c48['Marine'] = 26\n",
    "c48['Hellbat'] = 37\n",
    "\n",
    "c49 = {}\n",
    "c49['Hellion'] = 43\n",
    "\n",
    "c50 = {}\n",
    "c50['SiegeTank'] = 26\n",
    "c50['Battlecruiser'] = 7"
   ]
  },
  {
   "cell_type": "code",
   "execution_count": 38,
   "id": "a2c3f3a2",
   "metadata": {},
   "outputs": [],
   "source": [
    "bio_counters.append(c41)\n",
    "bio_counters.append(c42)\n",
    "bio_counters.append(c43)\n",
    "bio_counters.append(c44)\n",
    "bio_counters.append(c45)\n",
    "bio_counters.append(c46)\n",
    "bio_counters.append(c47)\n",
    "bio_counters.append(c48)\n",
    "bio_counters.append(c49)\n",
    "bio_counters.append(c50)"
   ]
  },
  {
   "cell_type": "code",
   "execution_count": 39,
   "id": "65b9875f",
   "metadata": {},
   "outputs": [],
   "source": [
    "c51 = {}\n",
    "c51['SiegeTank'] = 23\n",
    "c51['Viking'] = 27\n",
    "\n",
    "c52 = {}\n",
    "c52['Ghost'] = 25\n",
    "c52['Hellbat'] = 18\n",
    "\n",
    "c53 = {}\n",
    "c53['Hellbat'] = 41\n",
    "\n",
    "c54 = {}\n",
    "c54['Marine'] = 78\n",
    "\n",
    "c55 = {}\n",
    "c55['Reaper'] = 111\n",
    "\n",
    "c56 = {}\n",
    "c56['Hellion'] = 25\n",
    "c56['Cyclone'] = 6\n",
    "c56['Banshee'] = 6\n",
    "\n",
    "c57 = {}\n",
    "c57['Ghost'] = 62\n",
    "\n",
    "c58 = {}\n",
    "c58['Hellbat'] = 5\n",
    "c58['Battlecruiser'] = 9\n",
    "\n",
    "c59 = {}\n",
    "c59['Hellion'] = 20\n",
    "c59['Reaper'] = 30\n",
    "c59['Hellbat'] = 5\n",
    "\n",
    "c60 = {}\n",
    "c60['Medivac'] = 4\n",
    "c60['SiegeTank'] = 2\n",
    "c60['Battlecruiser'] = 6"
   ]
  },
  {
   "cell_type": "code",
   "execution_count": 40,
   "id": "27fedee9",
   "metadata": {},
   "outputs": [],
   "source": [
    "bio_counters.append(c51)\n",
    "bio_counters.append(c52)\n",
    "bio_counters.append(c53)\n",
    "bio_counters.append(c54)\n",
    "bio_counters.append(c55)\n",
    "bio_counters.append(c56)\n",
    "bio_counters.append(c57)\n",
    "bio_counters.append(c58)\n",
    "bio_counters.append(c59)\n",
    "bio_counters.append(c60)"
   ]
  },
  {
   "cell_type": "code",
   "execution_count": 41,
   "id": "7f1dea24",
   "metadata": {},
   "outputs": [],
   "source": [
    "c61 = {}\n",
    "c61['Hellbat'] = 29\n",
    "c61['Liberator'] = 10\n",
    "\n",
    "c62 = {}\n",
    "c62['Reaper'] = 33\n",
    "c62['Banshee'] = 19\n",
    "\n",
    "c63 = {}\n",
    "c63['Cyclone'] = 39\n",
    "\n",
    "c64 = {}\n",
    "c64['Hellbat'] = 2\n",
    "c64['Thor'] = 20\n",
    "\n",
    "c65 = {}\n",
    "c65['Hellbat'] = 18\n",
    "c65['Battlecruiser'] = 11\n",
    "\n",
    "c66 = {}\n",
    "c66['Banshee'] = 34\n",
    "\n",
    "c67 = {}\n",
    "c67['Liberator'] = 21\n",
    "\n",
    "c68 = {}\n",
    "c68['SiegeTank'] = 35\n",
    "\n",
    "c69 = {}\n",
    "c69['Reaper'] = 96\n",
    "\n",
    "c70 = {}\n",
    "c70['Hellbat'] = 60"
   ]
  },
  {
   "cell_type": "code",
   "execution_count": 42,
   "id": "82c03218",
   "metadata": {},
   "outputs": [],
   "source": [
    "bio_counters.append(c61)\n",
    "bio_counters.append(c62)\n",
    "bio_counters.append(c63)\n",
    "bio_counters.append(c64)\n",
    "bio_counters.append(c65)\n",
    "bio_counters.append(c66)\n",
    "bio_counters.append(c67)\n",
    "bio_counters.append(c68)\n",
    "bio_counters.append(c69)\n",
    "bio_counters.append(c70)"
   ]
  },
  {
   "cell_type": "code",
   "execution_count": 43,
   "id": "6aadb51b",
   "metadata": {},
   "outputs": [],
   "source": [
    "c71 = {}\n",
    "c71['Marauder'] = 61\n",
    "\n",
    "c72 = {}\n",
    "c72['SiegeTank'] = 34\n",
    "\n",
    "c73 = {}\n",
    "c73['Banshee'] = 32\n",
    "\n",
    "c74 = {}\n",
    "c74['Liberator'] = 30\n",
    "\n",
    "c75 = {}\n",
    "c75['Cyclone'] = 32\n",
    "c75['Banshee'] = 6\n",
    "\n",
    "c76 = {}\n",
    "c76['Reaper'] = 69\n",
    "c76['Hellbat'] = 11\n",
    "\n",
    "c77 = {}\n",
    "c77['Ghost'] = 31\n",
    "c77['Hellbat'] = 14\n",
    "\n",
    "c78 = {}\n",
    "c78['Marauder'] = 24\n",
    "c78['Liberator'] = 11\n",
    "\n",
    "c79 = {}\n",
    "c79['Hellbat'] = 36\n",
    "\n",
    "c80 = {}\n",
    "c80['Reaper'] = 51\n",
    "c80['Hellbat'] = 31"
   ]
  },
  {
   "cell_type": "code",
   "execution_count": 44,
   "id": "9a510f1b",
   "metadata": {},
   "outputs": [],
   "source": [
    "bio_counters.append(c71)\n",
    "bio_counters.append(c72)\n",
    "bio_counters.append(c73)\n",
    "bio_counters.append(c74)\n",
    "bio_counters.append(c75)\n",
    "bio_counters.append(c76)\n",
    "bio_counters.append(c77)\n",
    "bio_counters.append(c78)\n",
    "bio_counters.append(c79)\n",
    "bio_counters.append(c80)"
   ]
  },
  {
   "cell_type": "code",
   "execution_count": 45,
   "id": "2dc04df3",
   "metadata": {},
   "outputs": [],
   "source": [
    "c81 = {}\n",
    "c81['Hellion'] = 25\n",
    "c81['Ghost'] = 26\n",
    "\n",
    "c82 = {}\n",
    "c82['Thor'] = 12\n",
    "\n",
    "c83 = {}\n",
    "c83['Thor'] = 2\n",
    "c83['Viking'] = 5\n",
    "c83['Banshee'] = 24\n",
    "\n",
    "c84 = {}\n",
    "c84['Hellion'] = 49\n",
    "\n",
    "c85 = {}\n",
    "c85['Marine'] = 34\n",
    "c85['Hellbat'] = 44\n",
    "\n",
    "c86 = {}\n",
    "c86['Hellbat'] = 47\n",
    "\n",
    "c87 = {}\n",
    "c87['Marauder'] = 62\n",
    "\n",
    "c88 = {}\n",
    "c88['Medivac'] = 6\n",
    "c88['Viking'] = 5\n",
    "c88['Liberator'] = 16\n",
    "\n",
    "c89 = {}\n",
    "c89['SiegeTank'] = 4\n",
    "c89['Cyclone'] = 30\n",
    "\n",
    "c90 = {}\n",
    "c90['Liberator'] = 19"
   ]
  },
  {
   "cell_type": "code",
   "execution_count": 46,
   "id": "aa11c330",
   "metadata": {},
   "outputs": [],
   "source": [
    "bio_counters.append(c81)\n",
    "bio_counters.append(c82)\n",
    "bio_counters.append(c83)\n",
    "bio_counters.append(c84)\n",
    "bio_counters.append(c85)\n",
    "bio_counters.append(c86)\n",
    "bio_counters.append(c87)\n",
    "bio_counters.append(c88)\n",
    "bio_counters.append(c89)\n",
    "bio_counters.append(c90)"
   ]
  },
  {
   "cell_type": "code",
   "execution_count": 47,
   "id": "b8ee218f",
   "metadata": {},
   "outputs": [],
   "source": [
    "c91 = {}\n",
    "c91['Hellbat'] = 31\n",
    "c91['Thor'] = 7\n",
    "\n",
    "c92 = {}\n",
    "c92['Hellion'] = 42\n",
    "\n",
    "c93 = {}\n",
    "c93['Marine'] = 96\n",
    "c93['Viking'] = 9\n",
    "\n",
    "c94 = {}\n",
    "c94['Ghost'] = 27\n",
    "c94['Cyclone'] = 17\n",
    "\n",
    "c95 = {}\n",
    "c95['Battlecruiser'] = 7\n",
    "c95['Cyclone'] = 16\n",
    "\n",
    "c96 = {}\n",
    "c96['Viking'] = 17\n",
    "c96['Battlecruiser'] = 8\n",
    "\n",
    "c97 = {}\n",
    "c97['Hellion'] = 50\n",
    "c97['Liberator'] = 1\n",
    "\n",
    "c98 = {}\n",
    "c98['Cyclone'] = 36\n",
    "c98['Viking'] = 4\n",
    "\n",
    "c99 = {}\n",
    "c99['Hellion'] = 9\n",
    "c99['Marauder'] = 27\n",
    "\n",
    "c100 = {}\n",
    "c100['Cyclone'] = 17\n",
    "c100['Liberator'] = 19"
   ]
  },
  {
   "cell_type": "code",
   "execution_count": 48,
   "id": "82c13191",
   "metadata": {},
   "outputs": [],
   "source": [
    "bio_counters.append(c91)\n",
    "bio_counters.append(c92)\n",
    "bio_counters.append(c93)\n",
    "bio_counters.append(c94)\n",
    "bio_counters.append(c95)\n",
    "bio_counters.append(c96)\n",
    "bio_counters.append(c97)\n",
    "bio_counters.append(c98)\n",
    "bio_counters.append(c99)\n",
    "bio_counters.append(c100)"
   ]
  },
  {
   "cell_type": "code",
   "execution_count": 49,
   "id": "33d6781d",
   "metadata": {},
   "outputs": [],
   "source": [
    "c101 = {}\n",
    "c101['Ghost'] = 14\n",
    "c101['Hellbat'] = 21\n",
    "\n",
    "c102 = {}\n",
    "c102['Hellion'] = 4\n",
    "c102['Liberator'] = 17\n",
    "\n",
    "c103 = {}\n",
    "c103['Marauder'] = 52\n",
    "\n",
    "c104 = {}\n",
    "c104['Reaper'] = 38\n",
    "c104['Ghost'] = 22\n",
    "\n",
    "c105 = {}\n",
    "c105['Marine'] = 100\n",
    "c105['Banshee'] = 3\n",
    "\n",
    "c106 = {}\n",
    "c106['Hellbat'] = 49\n",
    "\n",
    "c107 = {}\n",
    "c107['Hellion'] = 40\n",
    "\n",
    "c108 = {}\n",
    "c108['Viking'] = 8\n",
    "c108['Liberator'] = 16\n",
    "\n",
    "c109 = {}\n",
    "c109['Banshee'] = 24\n",
    "c109['Battlecruiser'] = 5\n",
    "\n",
    "c110 = {}\n",
    "c110['Hellion'] = 43"
   ]
  },
  {
   "cell_type": "code",
   "execution_count": 50,
   "id": "ed5f79d1",
   "metadata": {},
   "outputs": [],
   "source": [
    "bio_counters.append(c101)\n",
    "bio_counters.append(c102)\n",
    "bio_counters.append(c103)\n",
    "bio_counters.append(c104)\n",
    "bio_counters.append(c105)\n",
    "bio_counters.append(c106)\n",
    "bio_counters.append(c107)\n",
    "bio_counters.append(c108)\n",
    "bio_counters.append(c109)\n",
    "bio_counters.append(c110)"
   ]
  },
  {
   "cell_type": "markdown",
   "id": "8e72df93",
   "metadata": {},
   "source": [
    "Having run our program against random enemy armies 110 times"
   ]
  },
  {
   "cell_type": "code",
   "execution_count": 53,
   "id": "fedd7da7",
   "metadata": {},
   "outputs": [
    {
     "name": "stdout",
     "output_type": "stream",
     "text": [
      "2353.6373023986816\n"
     ]
    },
    {
     "data": {
      "text/plain": [
       "[\"Army Comp{'Cyclone': 32, 'Banshee': 6}, Terran= 0.0, viability:units\",\n",
       " \"Army Comp{'Cyclone': 32, 'Banshee': 6}, Terran= 0.0, viability:units\",\n",
       " \"Army Comp{'Cyclone': 32, 'Banshee': 6}, Terran= 0.0, viability:units\",\n",
       " \"Army Comp{'Cyclone': 32, 'Banshee': 6}, Terran= 0.0, viability:units\",\n",
       " \"Army Comp{'Cyclone': 32, 'Banshee': 6}, Terran= 0.0, viability:units\",\n",
       " \"Army Comp{'Cyclone': 32, 'Banshee': 6}, Terran= 0.0, viability:units\",\n",
       " \"Army Comp{'Cyclone': 32, 'Banshee': 6}, Terran= 0.0, viability:units\",\n",
       " \"Army Comp{'Cyclone': 32, 'Banshee': 6}, Terran= 0.0, viability:units\",\n",
       " \"Army Comp{'Cyclone': 32, 'Banshee': 6}, Terran= 0.0, viability:units\",\n",
       " \"Army Comp{'Cyclone': 32, 'Banshee': 6}, Terran= 0.0, viability:units\"]"
      ]
     },
     "execution_count": 53,
     "metadata": {},
     "output_type": "execute_result"
    }
   ],
   "source": [
    "find_counters_parallel(terran_bio, 'terran_bio_final.txt', 'Terran', test_comps=bio_counters)"
   ]
  },
  {
   "cell_type": "code",
   "execution_count": 54,
   "id": "4727a149",
   "metadata": {},
   "outputs": [
    {
     "data": {
      "text/plain": [
       "114"
      ]
     },
     "execution_count": 54,
     "metadata": {},
     "output_type": "execute_result"
    }
   ],
   "source": [
    "get_army_supply(c75)"
   ]
  },
  {
   "cell_type": "code",
   "execution_count": 55,
   "id": "708bcbd5",
   "metadata": {},
   "outputs": [
    {
     "data": {
      "text/plain": [
       "9500"
      ]
     },
     "execution_count": 55,
     "metadata": {},
     "output_type": "execute_result"
    }
   ],
   "source": [
    "get_army_cost(c75)"
   ]
  },
  {
   "cell_type": "code",
   "execution_count": 56,
   "id": "fb6e6e62",
   "metadata": {},
   "outputs": [
    {
     "name": "stdout",
     "output_type": "stream",
     "text": [
      "minerals: 3800\n",
      "gas: 3800\n"
     ]
    }
   ],
   "source": [
    "Units = get_Units()\n",
    "minerals = Units['Cyclone']['mineral'] * 32 + Units['Banshee']['mineral'] * 6\n",
    "gas = minerals = Units['Cyclone']['gas'] * 32 + Units['Banshee']['gas'] * 6\n",
    "print(\"minerals: \" + str(minerals))\n",
    "print(\"gas: \" + str(gas))"
   ]
  },
  {
   "cell_type": "markdown",
   "id": "a3b744d6",
   "metadata": {},
   "source": [
    "From here we can see that the most optimal composition our program came up with was the 75th output of 32 Cyclones and 6 Banshees, for a total supply of 114 and a cost of 3800 minerals and 3800 gas. However, this is still not the most optimal composition. We can quickly run a test with slightly lower unit numbers and see that this cheaper army composition is still viable. "
   ]
  },
  {
   "cell_type": "code",
   "execution_count": 58,
   "id": "f2b0576f",
   "metadata": {},
   "outputs": [],
   "source": [
    "cheaper_comp1 = {}\n",
    "cheaper_comp1['Cyclone'] = 30\n",
    "cheaper_comp1['Banshee'] = 5"
   ]
  },
  {
   "cell_type": "code",
   "execution_count": 59,
   "id": "f24076be",
   "metadata": {},
   "outputs": [
    {
     "data": {
      "text/plain": [
       "1"
      ]
     },
     "execution_count": 59,
     "metadata": {},
     "output_type": "execute_result"
    }
   ],
   "source": [
    "viability(terran_bio, cheaper_comp1)"
   ]
  },
  {
   "cell_type": "code",
   "execution_count": 60,
   "id": "5d2a6cce",
   "metadata": {},
   "outputs": [],
   "source": [
    "cheaper_comp2 = {}\n",
    "cheaper_comp2['Cyclone'] = 30\n",
    "cheaper_comp2['Banshee'] = 0"
   ]
  },
  {
   "cell_type": "code",
   "execution_count": 61,
   "id": "5e4afa88",
   "metadata": {},
   "outputs": [
    {
     "data": {
      "text/plain": [
       "1"
      ]
     },
     "execution_count": 61,
     "metadata": {},
     "output_type": "execute_result"
    }
   ],
   "source": [
    "viability(terran_bio, cheaper_comp2)"
   ]
  },
  {
   "cell_type": "code",
   "execution_count": null,
   "id": "eb82d73e",
   "metadata": {},
   "outputs": [],
   "source": []
  }
 ],
 "metadata": {
  "kernelspec": {
   "display_name": "Python 3 (ipykernel)",
   "language": "python",
   "name": "python3"
  },
  "language_info": {
   "codemirror_mode": {
    "name": "ipython",
    "version": 3
   },
   "file_extension": ".py",
   "mimetype": "text/x-python",
   "name": "python",
   "nbconvert_exporter": "python",
   "pygments_lexer": "ipython3",
   "version": "3.7.10"
  }
 },
 "nbformat": 4,
 "nbformat_minor": 5
}
