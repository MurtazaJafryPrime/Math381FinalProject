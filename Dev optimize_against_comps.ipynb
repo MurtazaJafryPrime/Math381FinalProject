{
 "cells": [
  {
   "cell_type": "code",
   "execution_count": 1,
   "id": "3c15c340",
   "metadata": {},
   "outputs": [],
   "source": [
    "from sim_units import get_Units, get_Terran, get_Protoss, get_Zerg\n",
    "from initialize_comps import get_army_supply\n",
    "from linear_program import find_optimal_army"
   ]
  },
  {
   "cell_type": "markdown",
   "id": "6802a7c8",
   "metadata": {},
   "source": [
    "This notebook is for development/testing of the functions to run our linear program against some standard enemy compositions. We will be testing at least one composition from each race. These enemy compositions are determined by a small set of units with their numbers being determined by ratios. These ratios can be varied a little, as well as the total supply those compositions take up.\n",
    "\n",
    "For example, one Terran build we will be testing is the standard Bio build. This build revolves around biological units supported by Medivacs. The biological Terran units include the Marine, Marauder, Reaper, and Ghost. Reapers and Ghosts are mainly used for harassment and not large scale battles. A typical Terran Bio build has Marines and Marauders with a ratio around 3:1, and Medivacs with a ratio around 1 Medivac for every 10 or so infantry units. For our purposes, we will have a Marine:Marauder:Medivac ratio of 6:2:1 or 15:5:2.\n",
    "\n",
    "The Terran Bio build is standard because it revolves around Marines which are cheap, one of the first units Terran players can produce, and are extremely versatile as they are fast, ranged, and can attack both ground and air units. Marauders act as meat-shields in addition to extra damage against armored units, and Medivacs provide constant healing to both Marines and Marauders. While the functionality is not included in our combat simulator, Medivacs can also carry a small group of Marines and quickly fly them around the map, making this build useful for harassment in addition to all-out battle."
   ]
  },
  {
   "cell_type": "code",
   "execution_count": 2,
   "id": "00322c5e",
   "metadata": {},
   "outputs": [],
   "source": [
    "SUPPLY_CAP = 100\n",
    "\n",
    "terran_bio_comps = {}\n",
    "\n",
    "# first ratio of 6:2:1 Marine:Marauder:Medivac\n",
    "# scaled until supply is max it will go under SUPPLY_CAP\n",
    "terran_bio_comps[1] = {}\n",
    "terran_bio_comps[1]['Marine'] = 6\n",
    "terran_bio_comps[1]['Marauder'] = 2\n",
    "terran_bio_comps[1]['Medivac'] = 1\n",
    "\n",
    "n = 1\n",
    "while get_army_supply(terran_bio_comps[n]) <= SUPPLY_CAP:\n",
    "    n += 1\n",
    "    terran_bio_comps[n] = terran_bio_comps[1].copy()\n",
    "    for key in terran_bio_comps[n]:\n",
    "        terran_bio_comps[n][key] *= n\n",
    "if get_army_supply(terran_bio_comps[n]) > SUPPLY_CAP:\n",
    "    terran_bio_comps.pop(n)\n",
    "    n -= 1\n",
    "\n",
    "# second ratio of 15:5:2\n",
    "x = n\n",
    "terran_bio_comps[x] = {}\n",
    "terran_bio_comps[x]['Marine'] = 15\n",
    "terran_bio_comps[x]['Marauder'] = 5\n",
    "terran_bio_comps[x]['Medivac'] = 2\n",
    "m = 1\n",
    "while get_army_supply(terran_bio_comps[n]) <= SUPPLY_CAP:\n",
    "    m += 1\n",
    "    n += 1\n",
    "    terran_bio_comps[n] = terran_bio_comps[x].copy()\n",
    "    for key in terran_bio_comps[n]:\n",
    "        terran_bio_comps[n][key] *= m\n",
    "if get_army_supply(terran_bio_comps[n]) > SUPPLY_CAP:\n",
    "    terran_bio_comps.pop(n)"
   ]
  },
  {
   "cell_type": "code",
   "execution_count": 3,
   "id": "c8e7dbb2",
   "metadata": {},
   "outputs": [
    {
     "data": {
      "text/plain": [
       "{1: {'Marine': 6, 'Marauder': 2, 'Medivac': 1},\n",
       " 2: {'Marine': 12, 'Marauder': 4, 'Medivac': 2},\n",
       " 3: {'Marine': 18, 'Marauder': 6, 'Medivac': 3},\n",
       " 4: {'Marine': 24, 'Marauder': 8, 'Medivac': 4},\n",
       " 5: {'Marine': 30, 'Marauder': 10, 'Medivac': 5},\n",
       " 6: {'Marine': 36, 'Marauder': 12, 'Medivac': 6},\n",
       " 7: {'Marine': 42, 'Marauder': 14, 'Medivac': 7},\n",
       " 8: {'Marine': 15, 'Marauder': 5, 'Medivac': 2},\n",
       " 9: {'Marine': 30, 'Marauder': 10, 'Medivac': 4},\n",
       " 10: {'Marine': 45, 'Marauder': 15, 'Medivac': 6}}"
      ]
     },
     "execution_count": 3,
     "metadata": {},
     "output_type": "execute_result"
    }
   ],
   "source": [
    "terran_bio_comps"
   ]
  },
  {
   "cell_type": "code",
   "execution_count": 4,
   "id": "10e0f4c1",
   "metadata": {},
   "outputs": [
    {
     "data": {
      "text/plain": [
       "96"
      ]
     },
     "execution_count": 4,
     "metadata": {},
     "output_type": "execute_result"
    }
   ],
   "source": [
    "get_army_supply(terran_bio_comps[4])*2"
   ]
  },
  {
   "cell_type": "markdown",
   "id": "338e6a09",
   "metadata": {},
   "source": [
    "The following code finds the optimal Terran counters to these various Terran Bio armies when considering viability as a function of units remaining after battle."
   ]
  },
  {
   "cell_type": "code",
   "execution_count": 5,
   "id": "109ee004",
   "metadata": {},
   "outputs": [
    {
     "data": {
      "text/plain": [
       "{\"{'Marine': 6, 'Marauder': 2, 'Medivac': 1}\": 'No optimal army could be found',\n",
       " \"{'Marine': 12, 'Marauder': 4, 'Medivac': 2}\": 'No optimal army could be found',\n",
       " \"{'Marine': 18, 'Marauder': 6, 'Medivac': 3}\": 'No optimal army could be found',\n",
       " \"{'Marine': 24, 'Marauder': 8, 'Medivac': 4}\": 'No optimal army could be found',\n",
       " \"{'Marine': 30, 'Marauder': 10, 'Medivac': 5}\": 'No optimal army could be found',\n",
       " \"{'Marine': 36, 'Marauder': 12, 'Medivac': 6}\": 'No optimal army could be found',\n",
       " \"{'Marine': 42, 'Marauder': 14, 'Medivac': 7}\": 'No optimal army could be found',\n",
       " \"{'Marine': 15, 'Marauder': 5, 'Medivac': 2}\": 'No optimal army could be found',\n",
       " \"{'Marine': 30, 'Marauder': 10, 'Medivac': 4}\": 'No optimal army could be found',\n",
       " \"{'Marine': 45, 'Marauder': 15, 'Medivac': 6}\": 'No optimal army could be found'}"
      ]
     },
     "execution_count": 5,
     "metadata": {},
     "output_type": "execute_result"
    }
   ],
   "source": [
    "terran_counters = {}\n",
    "for enemy in terran_bio_comps.values():\n",
    "    terran_counters[str(enemy)] = find_optimal_army(enemy, race='Terran', supply_cap=SUPPLY_CAP)\n",
    "terran_counters"
   ]
  },
  {
   "cell_type": "markdown",
   "id": "500806c0",
   "metadata": {},
   "source": [
    "At this point, we expect all bio compositions to have no viable counters because only have access to a much smaller set of test compositions instead of the full set of possible army compositions."
   ]
  },
  {
   "cell_type": "markdown",
   "id": "044f3a33",
   "metadata": {},
   "source": [
    "Next we will can find the optimal Protoss and Zerg counters to the same Terran Bio armies and compare. Note that we cannot actually run this code until we get our completed list of all possible army compositions."
   ]
  },
  {
   "cell_type": "code",
   "execution_count": 6,
   "id": "248ba386",
   "metadata": {},
   "outputs": [],
   "source": [
    "if False:\n",
    "    protoss_counters = {}\n",
    "    zerg_counters = {}\n",
    "    for enemy in terran_bio_comps.values():\n",
    "        protoss_counters[str(enemy)] = find_optimal_army(enemy, race='Protoss', supply_cap=SUPPLY_CAP)\n",
    "        zerg_counters[str(enemy)] = find_optimal_army(enemy, race='Zerg', supply_cap=SUPPLY_CAP)\n",
    "    print(\"Protoss Counters to Terran Bio armies:\")\n",
    "    print(protoss_counters)\n",
    "    print()\n",
    "    print(\"Zerg Counters to Terran Bio armies:\")\n",
    "    print(zerg_counters)"
   ]
  },
  {
   "cell_type": "markdown",
   "id": "b9151c8f",
   "metadata": {},
   "source": [
    "At this point, we would analyze the different comps and see if/how the counters change as the enemy army scales up"
   ]
  },
  {
   "cell_type": "markdown",
   "id": "ccb167b6",
   "metadata": {},
   "source": [
    "Next we will examine a very annoying Protoss build, called Skytoss since it revolves around lots of air units. The Skytoss builds focus on amassing a large amount of Void Rays and Carriers and is known for being very annoying to deal with due to the high defensive stats, heavy damage, and the general mobility of air units. Due to the high resource cost and build time of the air units, a Skytoss army cannot be built until mid- to late-game. Phoenixes can be used in large battles, but are often used instead for early harassment. Tempests are effective against ground units, but are more useful for providing long ranged aerial bombardment versus buildings and so are typically kept away from the front lines of large battles. A typical Skytoss build has a ratio of 3 Void Rays to 2 Carriers if the opponent is expected to be building a lot of armored units, otherwise the build is almost solely made up of a lot of Carriers."
   ]
  },
  {
   "cell_type": "code",
   "execution_count": 7,
   "id": "3bd9fcf4",
   "metadata": {},
   "outputs": [],
   "source": [
    "skytoss_comps = {}\n",
    "\n",
    "# first ratio of 3:2 Void Ray:Carrier\n",
    "# scaled until supply is max it will go under SUPPLY_CAP\n",
    "skytoss_comps[1] = {}\n",
    "skytoss_comps[1]['VoidRay'] = 3\n",
    "skytoss_comps[1]['Carrier'] = 2\n",
    "\n",
    "n = 1\n",
    "while get_army_supply(skytoss_comps[n]) <= SUPPLY_CAP:\n",
    "    n += 1\n",
    "    skytoss_comps[n] = skytoss_comps[1].copy()\n",
    "    for key in skytoss_comps[n]:\n",
    "        skytoss_comps[n][key] *= n\n",
    "if get_army_supply(skytoss_comps[n]) > SUPPLY_CAP:\n",
    "    skytoss_comps.pop(n)\n",
    "    n -= 1\n",
    "\n",
    "# second ratio of oops! all Carriers\n",
    "x = n\n",
    "skytoss_comps[x] = {}\n",
    "skytoss_comps[x]['VoidRay'] = 0\n",
    "skytoss_comps[x]['Carrier'] = 1\n",
    "\n",
    "m = 1\n",
    "while get_army_supply(skytoss_comps[n]) <= SUPPLY_CAP:\n",
    "    m += 1\n",
    "    n += 1\n",
    "    skytoss_comps[n] = skytoss_comps[x].copy()\n",
    "    for key in skytoss_comps[n]:\n",
    "        skytoss_comps[n][key] *= m\n",
    "if get_army_supply(skytoss_comps[n]) > SUPPLY_CAP:\n",
    "    skytoss_comps.pop(n)"
   ]
  },
  {
   "cell_type": "code",
   "execution_count": 8,
   "id": "a51809f1",
   "metadata": {},
   "outputs": [
    {
     "data": {
      "text/plain": [
       "{1: {'VoidRay': 3, 'Carrier': 2},\n",
       " 2: {'VoidRay': 6, 'Carrier': 4},\n",
       " 3: {'VoidRay': 9, 'Carrier': 6},\n",
       " 4: {'VoidRay': 0, 'Carrier': 1},\n",
       " 5: {'VoidRay': 0, 'Carrier': 2},\n",
       " 6: {'VoidRay': 0, 'Carrier': 3},\n",
       " 7: {'VoidRay': 0, 'Carrier': 4},\n",
       " 8: {'VoidRay': 0, 'Carrier': 5},\n",
       " 9: {'VoidRay': 0, 'Carrier': 6},\n",
       " 10: {'VoidRay': 0, 'Carrier': 7},\n",
       " 11: {'VoidRay': 0, 'Carrier': 8},\n",
       " 12: {'VoidRay': 0, 'Carrier': 9},\n",
       " 13: {'VoidRay': 0, 'Carrier': 10},\n",
       " 14: {'VoidRay': 0, 'Carrier': 11},\n",
       " 15: {'VoidRay': 0, 'Carrier': 12},\n",
       " 16: {'VoidRay': 0, 'Carrier': 13},\n",
       " 17: {'VoidRay': 0, 'Carrier': 14},\n",
       " 18: {'VoidRay': 0, 'Carrier': 15},\n",
       " 19: {'VoidRay': 0, 'Carrier': 16}}"
      ]
     },
     "execution_count": 8,
     "metadata": {},
     "output_type": "execute_result"
    }
   ],
   "source": [
    "skytoss_comps"
   ]
  },
  {
   "cell_type": "code",
   "execution_count": null,
   "id": "65a73e91",
   "metadata": {},
   "outputs": [],
   "source": [
    "terran_counters = {}\n",
    "protoss_counters = {}\n",
    "zerg_counters = {}\n",
    "for enemy in skytoss_comps.values():\n",
    "    terran_counters[str(enemy)] = find_optimal_army(enemy, race='Terran', supply_cap=SUPPLY_CAP)\n",
    "    # this statement is just so that we don't run it without having our full army comps\n",
    "    if False:\n",
    "        protoss_counters[str(enemy)] = find_optimal_army(enemy, race='Protoss', supply_cap=SUPPLY_CAP)\n",
    "        zerg_counters[str(enemy)] = find_optimal_army(enemy, race='Zerg', supply_cap=SUPPLY_CAP)\n",
    "print(\"Terran Counters to Skytoss armies:\")\n",
    "print(terran_counters)\n",
    "print()\n",
    "print(\"Protoss Counters to Skytoss armies:\")\n",
    "print(protoss_counters)\n",
    "print()\n",
    "print(\"Zerg Counters to Skytoss armies:\")\n",
    "print(zerg_counters)"
   ]
  },
  {
   "cell_type": "markdown",
   "id": "3504b93d",
   "metadata": {},
   "source": [
    "Our next army type to consider is a common Zerg build of Roaches, Ravagers, and Zerglings. Zerglings are the first combat unit the Zerg can produce, with the Roaches and Ravagers being able to be produced shortly after. Zerglings are very fast and cheap making them ideal for early game harassment. While they are individually weak, Zerglings are effective when swarming in large numbers. Roaches and Ravagers are both ranged ground units, with Ravagers having slightly higher damage and lower health. This type of army is typically used very early in the game but is ineffective later in the game if the opponent builds air units. We will be using examining army compositions of Zerglings, Roaches, and Ravagers in a ratio of 4:3:1 and 2:1:1."
   ]
  },
  {
   "cell_type": "code",
   "execution_count": null,
   "id": "20916b53",
   "metadata": {},
   "outputs": [],
   "source": [
    "ling_comps = {}\n",
    "\n",
    "# first ratio of 4:3:1 Zergling:Roach:Ravager\n",
    "# scaled until supply is max it will go under SUPPLY_CAP\n",
    "ling_comps[1] = {}\n",
    "ling_comps[1]['Zergling'] = 4\n",
    "ling_comps[1]['Roach'] = 3\n",
    "ling_comps[1]['Ravager'] = 1\n",
    "\n",
    "n = 1\n",
    "while get_army_supply(ling_comps[n]) <= SUPPLY_CAP:\n",
    "    n += 1\n",
    "    ling_comps[n] = ling_comps[1].copy()\n",
    "    for key in ling_comps[n]:\n",
    "        ling_comps[n][key] *= n\n",
    "if get_army_supply(ling_comps[n]) > SUPPLY_CAP:\n",
    "    ling_comps.pop(n)\n",
    "    n -= 1\n",
    "\n",
    "# second ratio of 2:1:1 Zergling:Roach:Ravager\n",
    "x = n\n",
    "ling_comps[x] = {}\n",
    "ling_comps[x]['Zergling'] = 2\n",
    "ling_comps[x]['Roach'] = 1\n",
    "ling_comps[x]['Ravager'] = 1\n",
    "\n",
    "m = 1\n",
    "while get_army_supply(ling_comps[n]) <= SUPPLY_CAP:\n",
    "    m += 1\n",
    "    n += 1\n",
    "    ling_comps[n] = ling_comps[x].copy()\n",
    "    for key in ling_comps[n]:\n",
    "        ling_comps[n][key] *= m\n",
    "if get_army_supply(ling_comps[n]) > SUPPLY_CAP:\n",
    "    ling_comps.pop(n)"
   ]
  },
  {
   "cell_type": "code",
   "execution_count": null,
   "id": "561d56c7",
   "metadata": {},
   "outputs": [],
   "source": [
    "ling_comps"
   ]
  },
  {
   "cell_type": "code",
   "execution_count": null,
   "id": "46472151",
   "metadata": {},
   "outputs": [],
   "source": [
    "terran_counters = {}\n",
    "protoss_counters = {}\n",
    "zerg_counters = {}\n",
    "for enemy in ling_comps.values():\n",
    "    terran_counters[str(enemy)] = find_optimal_army(enemy, race='Terran', supply_cap=SUPPLY_CAP)\n",
    "    # this statement is just so that we don't run it without having our full army comps\n",
    "    if False:\n",
    "        protoss_counters[str(enemy)] = find_optimal_army(enemy, race='Protoss', supply_cap=SUPPLY_CAP)\n",
    "        zerg_counters[str(enemy)] = find_optimal_army(enemy, race='Zerg', supply_cap=SUPPLY_CAP)\n",
    "print(\"Terran Counters to Zergling armies:\")\n",
    "print(terran_counters)\n",
    "print()\n",
    "print(\"Protoss Counters to Zergling armies:\")\n",
    "print(protoss_counters)\n",
    "print()\n",
    "print(\"Zerg Counters to Zergling armies:\")\n",
    "print(zerg_counters)"
   ]
  },
  {
   "cell_type": "code",
   "execution_count": null,
   "id": "5c7c2b94",
   "metadata": {},
   "outputs": [],
   "source": []
  }
 ],
 "metadata": {
  "kernelspec": {
   "display_name": "Python 3 (ipykernel)",
   "language": "python",
   "name": "python3"
  },
  "language_info": {
   "codemirror_mode": {
    "name": "ipython",
    "version": 3
   },
   "file_extension": ".py",
   "mimetype": "text/x-python",
   "name": "python",
   "nbconvert_exporter": "python",
   "pygments_lexer": "ipython3",
   "version": "3.7.10"
  }
 },
 "nbformat": 4,
 "nbformat_minor": 5
}
