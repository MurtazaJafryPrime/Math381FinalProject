{
 "cells": [
  {
   "cell_type": "code",
   "execution_count": 1,
   "id": "0e800337",
   "metadata": {},
   "outputs": [],
   "source": [
    "from sim_units import get_Units, get_Terran, get_Protoss, get_Zerg\n",
    "from initialize_comps import get_army_supply\n",
    "from linear_program import find_optimal_army"
   ]
  },
  {
   "cell_type": "markdown",
   "id": "20ea295f",
   "metadata": {},
   "source": [
    "This notebook is for development/testing of the functions to run our linear program against some standard enemy compositions. We will be testing at least one composition from each race. These enemy compositions are determined by a small set of units with their numbers being determined by ratios. These ratios can be varied a little, as well as the total supply those compositions take up.\n",
    "\n",
    "For example, one Terran build we will be testing is the standard Bio build. This build revolves around biological units supported by Medivacs. The biological Terran units include the Marine, Marauder, Reaper, and Ghost. Reapers and Ghosts are mainly used for harassment and not large scale battles. A typical Terran Bio build has Marines and Marauders with a ratio around 3:1, and Medivacs with a ratio around 1 Medivac for every 10 or so infantry units. For our purposes, we will have a Marine:Marauder:Medivac ratio of 6:2:1 or 15:5:2.\n",
    "\n",
    "The Terran Bio build is standard because it revolves around Marines which are cheap, one of the first units Terran players can produce, and are extremely versatile as they are fast, ranged, and can attack both ground and air units. Marauders act as meat-shields in addition to extra damage against armored units, and Medivacs provide constant healing to both Marines and Marauders. While the functionality is not included in our combat simulator, Medivacs can also carry a small group of Marines and quickly fly them around the map, making this build useful for harassment in addition to all-out battle."
   ]
  },
  {
   "cell_type": "code",
   "execution_count": 2,
   "id": "02393879",
   "metadata": {},
   "outputs": [],
   "source": [
    "Terran_Units = get_Units()"
   ]
  },
  {
   "cell_type": "code",
   "execution_count": 3,
   "id": "daac33ed",
   "metadata": {},
   "outputs": [],
   "source": [
    "Marine = Terran_Units['Marine']\n",
    "Medivac = Terran_Units['Medivac']\n",
    "Marauder = Terran_Units['Marauder']"
   ]
  },
  {
   "cell_type": "code",
   "execution_count": 20,
   "id": "da60debc",
   "metadata": {},
   "outputs": [],
   "source": [
    "SUPPLY_CAP = 100\n",
    "\n",
    "terran_bio_comps = {}\n",
    "\n",
    "# first ratio of 6:2:1 Marine:Marauder:Medivac\n",
    "# scaled until supply is max it will go under SUPPLY_CAP\n",
    "terran_bio_comps[1] = {}\n",
    "terran_bio_comps[1]['Marine'] = 6\n",
    "terran_bio_comps[1]['Marauder'] = 2\n",
    "terran_bio_comps[1]['Medivac'] = 1\n",
    "\n",
    "n = 1\n",
    "while get_army_supply(terran_bio_comps[n]) <= SUPPLY_CAP:\n",
    "    n += 1\n",
    "    terran_bio_comps[n] = terran_bio_comps[1].copy()\n",
    "    for key in terran_bio_comps[n]:\n",
    "        terran_bio_comps[n][key] *= n\n",
    "if get_army_supply(terran_bio_comps[n]) > SUPPLY_CAP:\n",
    "    terran_bio_comps.pop(n)\n",
    "    n -= 1\n",
    "\n",
    "# second ratio of 15:5:2\n",
    "x = n\n",
    "terran_bio_comps[x] = {}\n",
    "terran_bio_comps[x]['Marine'] = 15\n",
    "terran_bio_comps[x]['Marauder'] = 5\n",
    "terran_bio_comps[x]['Medivac'] = 2\n",
    "m = 1\n",
    "while get_army_supply(terran_bio_comps[n]) <= SUPPLY_CAP:\n",
    "    m += 1\n",
    "    n += 1\n",
    "    terran_bio_comps[n] = terran_bio_comps[x].copy()\n",
    "    for key in terran_bio_comps[n]:\n",
    "        terran_bio_comps[n][key] *= m\n",
    "if get_army_supply(terran_bio_comps[n]) > SUPPLY_CAP:\n",
    "    terran_bio_comps.pop(n)"
   ]
  },
  {
   "cell_type": "code",
   "execution_count": 21,
   "id": "f9f2e588",
   "metadata": {},
   "outputs": [
    {
     "data": {
      "text/plain": [
       "{1: {'Marine': 6, 'Marauder': 2, 'Medivac': 1},\n",
       " 2: {'Marine': 12, 'Marauder': 4, 'Medivac': 2},\n",
       " 3: {'Marine': 18, 'Marauder': 6, 'Medivac': 3},\n",
       " 4: {'Marine': 24, 'Marauder': 8, 'Medivac': 4},\n",
       " 5: {'Marine': 30, 'Marauder': 10, 'Medivac': 5},\n",
       " 6: {'Marine': 36, 'Marauder': 12, 'Medivac': 6},\n",
       " 7: {'Marine': 42, 'Marauder': 14, 'Medivac': 7},\n",
       " 8: {'Marine': 15, 'Marauder': 5, 'Medivac': 2},\n",
       " 9: {'Marine': 30, 'Marauder': 10, 'Medivac': 4},\n",
       " 10: {'Marine': 45, 'Marauder': 15, 'Medivac': 6}}"
      ]
     },
     "execution_count": 21,
     "metadata": {},
     "output_type": "execute_result"
    }
   ],
   "source": [
    "terran_bio_comps"
   ]
  },
  {
   "cell_type": "code",
   "execution_count": 19,
   "id": "3c241514",
   "metadata": {},
   "outputs": [
    {
     "data": {
      "text/plain": [
       "58"
      ]
     },
     "execution_count": 19,
     "metadata": {},
     "output_type": "execute_result"
    }
   ],
   "source": [
    "get_army_supply(terran_bio_comps[4])*2"
   ]
  },
  {
   "cell_type": "markdown",
   "id": "94233aa6",
   "metadata": {},
   "source": [
    "The following code finds the optimal Terran counters to these various Terran Bio armies when considering viability as a function of units remaining after battle."
   ]
  },
  {
   "cell_type": "code",
   "execution_count": 22,
   "id": "42fc495b",
   "metadata": {},
   "outputs": [
    {
     "data": {
      "text/plain": [
       "{\"{'Marine': 6, 'Marauder': 2, 'Medivac': 1}\": 'No optimal army could be found',\n",
       " \"{'Marine': 12, 'Marauder': 4, 'Medivac': 2}\": 'No optimal army could be found',\n",
       " \"{'Marine': 18, 'Marauder': 6, 'Medivac': 3}\": 'No optimal army could be found',\n",
       " \"{'Marine': 24, 'Marauder': 8, 'Medivac': 4}\": 'No optimal army could be found',\n",
       " \"{'Marine': 30, 'Marauder': 10, 'Medivac': 5}\": 'No optimal army could be found',\n",
       " \"{'Marine': 36, 'Marauder': 12, 'Medivac': 6}\": 'No optimal army could be found',\n",
       " \"{'Marine': 42, 'Marauder': 14, 'Medivac': 7}\": 'No optimal army could be found',\n",
       " \"{'Marine': 15, 'Marauder': 5, 'Medivac': 2}\": 'No optimal army could be found',\n",
       " \"{'Marine': 30, 'Marauder': 10, 'Medivac': 4}\": 'No optimal army could be found',\n",
       " \"{'Marine': 45, 'Marauder': 15, 'Medivac': 6}\": 'No optimal army could be found'}"
      ]
     },
     "execution_count": 22,
     "metadata": {},
     "output_type": "execute_result"
    }
   ],
   "source": [
    "terran_counters = {}\n",
    "for enemy in terran_bio_comps.values():\n",
    "    terran_counters[str(enemy)] = find_optimal_army(enemy, race='Terran', supply_cap=SUPPLY_CAP)\n",
    "terran_counters"
   ]
  },
  {
   "cell_type": "markdown",
   "id": "2c7ac873",
   "metadata": {},
   "source": [
    "At this point, we expect all bio compositions to have no viable counters because only have access to a much smaller set of test compositions instead of the full set of possible army compositions."
   ]
  },
  {
   "cell_type": "markdown",
   "id": "f9544523",
   "metadata": {},
   "source": [
    "Next we will can find the optimal Protoss and Zerg counters to the same Terran Bio armies and compare. Note that we cannot actually run this code until we get our completed list of all possible army compositions."
   ]
  },
  {
   "cell_type": "code",
   "execution_count": 24,
   "id": "f16a5a3d",
   "metadata": {},
   "outputs": [],
   "source": [
    "if False:\n",
    "    protoss_counters = {}\n",
    "    zerg_counters = {}\n",
    "    for enemy in terran_bio_comps.values():\n",
    "        protoss_counters[str(enemy)] = find_optimal_army(enemy, race='Protoss', supply_cap=SUPPLY_CAP)\n",
    "        zerg_counters[str(enemy)] = find_optimal_army(enemy, race='Zerg', supply_cap=SUPPLY_CAP)\n",
    "    print(\"Protoss Counters to Terran Bio armies:\")\n",
    "    print(protoss_counters)\n",
    "    print()\n",
    "    print(\"Zerg Counters to Terran Bio armies:\")\n",
    "    print(zerg_counters)"
   ]
  },
  {
   "cell_type": "code",
   "execution_count": null,
   "id": "5d3d101d",
   "metadata": {},
   "outputs": [],
   "source": []
  }
 ],
 "metadata": {
  "kernelspec": {
   "display_name": "Python 3 (ipykernel)",
   "language": "python",
   "name": "python3"
  },
  "language_info": {
   "codemirror_mode": {
    "name": "ipython",
    "version": 3
   },
   "file_extension": ".py",
   "mimetype": "text/x-python",
   "name": "python",
   "nbconvert_exporter": "python",
   "pygments_lexer": "ipython3",
   "version": "3.7.10"
  }
 },
 "nbformat": 4,
 "nbformat_minor": 5
}
