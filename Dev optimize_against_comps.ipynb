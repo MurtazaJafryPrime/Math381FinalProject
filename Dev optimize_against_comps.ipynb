{
 "cells": [
  {
   "cell_type": "code",
   "execution_count": 1,
   "id": "3c15c340",
   "metadata": {},
   "outputs": [],
   "source": [
    "from sim_units import get_Units, get_Terran, get_Protoss, get_Zerg\n",
    "from generate_comps import get_army_supply\n",
    "from linear_program import find_optimal_army"
   ]
  },
  {
   "cell_type": "markdown",
   "id": "6802a7c8",
   "metadata": {},
   "source": [
    "This notebook is for development/testing of the functions to run our linear program against some standard enemy compositions. We will be testing at least one composition from each race. These enemy compositions are determined by a small set of units with their numbers being determined by ratios. These ratios can be varied a little, as well as the total supply those compositions take up."
   ]
  },
  {
   "cell_type": "code",
   "execution_count": 2,
   "id": "deba5a85",
   "metadata": {},
   "outputs": [],
   "source": [
    "def scale_comps(base_comps, supply_cap=200):\n",
    "    \"\"\"\n",
    "    base_comps is a list of army composition that needs to be scaled up\n",
    "    supply_cap is an integer that determines the max supply the armies\n",
    "    will be scaled up to.\n",
    "    This function scales each of the army compositions up the the max supply\n",
    "    and adds those army compostitions into a dicitonary\n",
    "    Returns that dictionary of scaled armies\n",
    "    \"\"\"\n",
    "    scaled_comps = {}\n",
    "    n = 1\n",
    "    for base in base_comps:\n",
    "        x = n\n",
    "        m = 1\n",
    "        # initialize the base army comp\n",
    "        scaled_comps[x] = {}\n",
    "        for name in base.keys():\n",
    "            scaled_comps[x][name] = base[name]\n",
    "        # add in scaled comps\n",
    "        while get_army_supply(scaled_comps[n]) <= supply_cap:\n",
    "            m += 1\n",
    "            n += 1\n",
    "            scaled_comps[n] = scaled_comps[x].copy()\n",
    "            for key in scaled_comps[n]:\n",
    "                scaled_comps[n][key] *= m\n",
    "        if get_army_supply(scaled_comps[n]) > supply_cap:\n",
    "            scaled_comps.pop(n)\n",
    "            n -= 1\n",
    "    return scaled_comps"
   ]
  },
  {
   "cell_type": "code",
   "execution_count": 3,
   "id": "be96e00a",
   "metadata": {},
   "outputs": [],
   "source": [
    "def find_counters_from_list(army_list, name, supply_cap=200):\n",
    "    \"\"\"\n",
    "    Input is a list of army compositions\n",
    "    name is a string of whatever name we wish to call our enemy army\n",
    "    supply_cap is an integer of the largest army we wish to test\n",
    "    Prints out the optimal army counters for each \n",
    "    inputed army comp for each race    \n",
    "    \"\"\"\n",
    "    name = str\n",
    "    terran_counters = {}\n",
    "    protoss_counters = {}\n",
    "    zerg_counters = {}\n",
    "    for enemy in army_list.values():\n",
    "        terran_counters[str(enemy)] = find_optimal_army(enemy, race='Terran', supply_cap=supply_cap)\n",
    "        protoss_counters[str(enemy)] = find_optimal_army(enemy, race='Protoss', supply_cap=supply_cap)\n",
    "        zerg_counters[str(enemy)] = find_optimal_army(enemy, race='Zerg', supply_cap=supply_cap)\n",
    "    print(\"Terran Counters to \" + name + \" armies:\")\n",
    "    print(terran_counters)\n",
    "    print()\n",
    "    print(\"Protoss Counters to \" + name + \" armies:\")\n",
    "    print(protoss_counters)\n",
    "    print()\n",
    "    print(\"Zerg Counters to \" + name + \" armies:\")\n",
    "    print(zerg_counters)"
   ]
  },
  {
   "cell_type": "markdown",
   "id": "fd4a528c",
   "metadata": {},
   "source": [
    "The Terran build we will be testing is the standard Bio build. This build revolves around biological units supported by Medivacs. The biological Terran units include the Marine, Marauder, Reaper, and Ghost. Reapers and Ghosts are mainly used for harassment and not large scale battles. A typical Terran Bio build has Marines and Marauders with a ratio around 3:1, and Medivacs with a ratio around 1 Medivac for every 10 or so infantry units. For our purposes, we will have a Marine:Marauder:Medivac ratio of 6:2:1 or 15:5:2.\n",
    "\n",
    "The Terran Bio build is standard because it revolves around Marines which are cheap, one of the first units Terran players can produce, and are extremely versatile as they are fast, ranged, and can attack both ground and air units. Marauders act as meat-shields in addition to extra damage against armored units, and Medivacs provide constant healing to both Marines and Marauders. While the functionality is not included in our combat simulator, Medivacs can also carry a small group of Marines and quickly fly them around the map, making this build useful for harassment in addition to all-out battle."
   ]
  },
  {
   "cell_type": "code",
   "execution_count": 4,
   "id": "08321150",
   "metadata": {},
   "outputs": [
    {
     "data": {
      "text/plain": [
       "[{'Marine': 6, 'Marauder': 2, 'Medivac': 1},\n",
       " {'Marine': 15, 'Marauder': 5, 'Medivac': 2}]"
      ]
     },
     "execution_count": 4,
     "metadata": {},
     "output_type": "execute_result"
    }
   ],
   "source": [
    "terran_bio_list = []\n",
    "\n",
    "# first ratio of 6:2:1 Marine:Marauder:Medivac\n",
    "terran_bio_1 = {}\n",
    "terran_bio_1['Marine'] = 6\n",
    "terran_bio_1['Marauder'] = 2\n",
    "terran_bio_1['Medivac'] = 1\n",
    "terran_bio_list.append(terran_bio_1)\n",
    "\n",
    "# second ratio of 15:5:2\n",
    "terran_bio_2 = {}\n",
    "terran_bio_2['Marine'] = 15\n",
    "terran_bio_2['Marauder'] = 5\n",
    "terran_bio_2['Medivac'] = 2\n",
    "terran_bio_list.append(terran_bio_2)\n",
    "\n",
    "terran_bio_list"
   ]
  },
  {
   "cell_type": "code",
   "execution_count": 5,
   "id": "79e842c2",
   "metadata": {},
   "outputs": [],
   "source": [
    "terran_bio = scale_comps(terran_bio_list, supply_cap=100)"
   ]
  },
  {
   "cell_type": "code",
   "execution_count": 6,
   "id": "c8e7dbb2",
   "metadata": {},
   "outputs": [
    {
     "data": {
      "text/plain": [
       "{1: {'Marine': 6, 'Marauder': 2, 'Medivac': 1},\n",
       " 2: {'Marine': 12, 'Marauder': 4, 'Medivac': 2},\n",
       " 3: {'Marine': 18, 'Marauder': 6, 'Medivac': 3},\n",
       " 4: {'Marine': 24, 'Marauder': 8, 'Medivac': 4},\n",
       " 5: {'Marine': 30, 'Marauder': 10, 'Medivac': 5},\n",
       " 6: {'Marine': 36, 'Marauder': 12, 'Medivac': 6},\n",
       " 7: {'Marine': 42, 'Marauder': 14, 'Medivac': 7},\n",
       " 8: {'Marine': 15, 'Marauder': 5, 'Medivac': 2},\n",
       " 9: {'Marine': 30, 'Marauder': 10, 'Medivac': 4},\n",
       " 10: {'Marine': 45, 'Marauder': 15, 'Medivac': 6}}"
      ]
     },
     "execution_count": 6,
     "metadata": {},
     "output_type": "execute_result"
    }
   ],
   "source": [
    "terran_bio"
   ]
  },
  {
   "cell_type": "markdown",
   "id": "338e6a09",
   "metadata": {},
   "source": [
    "The following code finds the optimal Terran counters to these various Terran Bio armies when considering viability as a function of units remaining after battle."
   ]
  },
  {
   "cell_type": "code",
   "execution_count": null,
   "id": "109ee004",
   "metadata": {},
   "outputs": [],
   "source": [
    "find_counters_from_list(terran_bio, 'Terran Bio')"
   ]
  },
  {
   "cell_type": "markdown",
   "id": "ccb167b6",
   "metadata": {},
   "source": [
    "Next we will examine a very annoying Protoss build, called Skytoss since it revolves around lots of air units. The Skytoss builds focus on amassing a large amount of Void Rays and Carriers and is known for being very annoying to deal with due to the high defensive stats, heavy damage, and the general mobility of air units. Due to the high resource cost and build time of the air units, a Skytoss army cannot be built until mid- to late-game. Phoenixes can be used in large battles, but are often used instead for early harassment. Tempests are effective against ground units, but are more useful for providing long ranged aerial bombardment versus buildings and so are typically kept away from the front lines of large battles. A typical Skytoss build has a ratio of 3 Void Rays to 2 Carriers if the opponent is expected to be building a lot of armored units, otherwise the build is almost solely made up of a lot of Carriers."
   ]
  },
  {
   "cell_type": "code",
   "execution_count": null,
   "id": "f9934286",
   "metadata": {},
   "outputs": [],
   "source": [
    "skytoss_list = []\n",
    "\n",
    "# first ratio of 3:2 Void Ray:Carrier\n",
    "skytoss_1 = {}\n",
    "skytoss_1['VoidRay'] = 3\n",
    "skytoss_1['Carrier'] = 2\n",
    "skytoss_list.append(skytoss_1)\n",
    "\n",
    "# second ratio of oops! all Carriers\n",
    "skytoss_2 = {}\n",
    "skytoss_2['VoidRay'] = 0\n",
    "skytoss_2['Carrier'] = 1\n",
    "skytoss_list.append(skytoss_2)\n",
    "\n",
    "skytoss_list"
   ]
  },
  {
   "cell_type": "code",
   "execution_count": null,
   "id": "e1411814",
   "metadata": {},
   "outputs": [],
   "source": [
    "skytoss = scale_comps(skytoss_list, supply_cap=100)"
   ]
  },
  {
   "cell_type": "code",
   "execution_count": null,
   "id": "a51809f1",
   "metadata": {},
   "outputs": [],
   "source": [
    "skytoss"
   ]
  },
  {
   "cell_type": "code",
   "execution_count": null,
   "id": "65a73e91",
   "metadata": {},
   "outputs": [],
   "source": [
    "find_counters_from_list(skytoss, 'Skytoss')"
   ]
  },
  {
   "cell_type": "markdown",
   "id": "3504b93d",
   "metadata": {},
   "source": [
    "Our next army type to consider is a common Zerg build of Roaches, Ravagers, and Zerglings. Zerglings are the first combat unit the Zerg can produce, with the Roaches and Ravagers being able to be produced shortly after. Zerglings are very fast and cheap making them ideal for early game harassment. While they are individually weak, Zerglings are effective when swarming in large numbers. Roaches and Ravagers are both ranged ground units, with Ravagers having slightly higher damage and lower health. This type of army is typically used very early in the game but is ineffective later in the game if the opponent builds air units. We will be using examining army compositions of Zerglings, Roaches, and Ravagers in a ratio of 4:3:1 and 2:1:1."
   ]
  },
  {
   "cell_type": "code",
   "execution_count": null,
   "id": "d0fc7748",
   "metadata": {},
   "outputs": [],
   "source": [
    "ling_list = []\n",
    "\n",
    "# first ratio of 4:3:1 Zergling:Roach:Ravager\n",
    "ling_1 = {}\n",
    "ling_1['Zergling'] = 4\n",
    "ling_1['Roach'] = 3\n",
    "ling_1['Ravager'] = 1\n",
    "ling_list.append(ling_1)\n",
    "\n",
    "# second ratio of 2:1:1 Zergling:Roach:Ravager\n",
    "ling_2 = {}\n",
    "ling_2['Zergling'] = 2\n",
    "ling_2['Roach'] = 1\n",
    "ling_2['Ravager'] = 1\n",
    "ling_list.append(ling_2)\n",
    "\n",
    "ling_list"
   ]
  },
  {
   "cell_type": "code",
   "execution_count": null,
   "id": "ee47afbb",
   "metadata": {},
   "outputs": [],
   "source": [
    "zerg_rush = scale_comps(ling_list, supply_cap=100)"
   ]
  },
  {
   "cell_type": "code",
   "execution_count": null,
   "id": "4306b933",
   "metadata": {},
   "outputs": [],
   "source": [
    "zerg_rush"
   ]
  },
  {
   "cell_type": "code",
   "execution_count": null,
   "id": "46472151",
   "metadata": {},
   "outputs": [],
   "source": [
    "find_counters_from_list(zerg_rush, 'Zerglings and Friends')"
   ]
  },
  {
   "cell_type": "code",
   "execution_count": null,
   "id": "5c7c2b94",
   "metadata": {},
   "outputs": [],
   "source": []
  }
 ],
 "metadata": {
  "kernelspec": {
   "display_name": "Python 3 (ipykernel)",
   "language": "python",
   "name": "python3"
  },
  "language_info": {
   "codemirror_mode": {
    "name": "ipython",
    "version": 3
   },
   "file_extension": ".py",
   "mimetype": "text/x-python",
   "name": "python",
   "nbconvert_exporter": "python",
   "pygments_lexer": "ipython3",
   "version": "3.7.10"
  }
 },
 "nbformat": 4,
 "nbformat_minor": 5
}
