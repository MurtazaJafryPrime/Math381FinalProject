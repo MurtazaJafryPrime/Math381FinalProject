{
 "cells": [
  {
   "cell_type": "markdown",
   "id": "7bbc1f19",
   "metadata": {},
   "source": [
    "Unit stats are stored in a dictionary. Stats we care about for combat sim are HP(int), DPS(float), Range(bool), Armor(int), Attributes(set string), Targetable(set string), Bonuses(set string), Bonus DPS(float). We also want to track Minerals(int), Gas(int), Supply(int), and Time(int) for the linear program.\n",
    "\n",
    "All stats assume no upgrades. Shields are added to health to get HP. Bonuses is a set of string attributes that this unit will deal bonus damage to. Bonus DPS is the damage the unit will deal to an enemy unit after accounting for bonuses. Targetable is a set of string attributes that this unit can, either ground and/or air.\n",
    "\n",
    "Will probably include a separate exception within the simulator itself to deal with SCV healing Mechs and Medivacs healing Bio."
   ]
  },
  {
   "cell_type": "code",
   "execution_count": 1,
   "id": "a3a65122",
   "metadata": {},
   "outputs": [],
   "source": [
    "import random"
   ]
  },
  {
   "cell_type": "code",
   "execution_count": 19,
   "id": "c6495fcf",
   "metadata": {},
   "outputs": [],
   "source": [
    "Terran_Units = {}\n",
    "Units = {}\n",
    "\n",
    "Marine = {}\n",
    "# Combat stats\n",
    "Marine['hp'] = 45\n",
    "Marine['dps'] = 9.8\n",
    "Marine['ranged'] = True\n",
    "Marine['armor'] = 0\n",
    "Marine['attributes'] = {'Biological', 'Light', 'Ground'}\n",
    "Marine['type'] = {'Ground'}\n",
    "Marine['targetable'] = {'Ground', 'Air'}\n",
    "Marine['bonuses'] = {}\n",
    "Marine['bonus_dps'] = 0\n",
    "Marine['healer'] = False\n",
    "# Resource stats\n",
    "Marine['mineral'] = 50\n",
    "Marine['gas'] = 0\n",
    "Marine['time'] = 18\n",
    "Marine['supply'] = 1\n",
    "Terran_Units['Marine'] = Marine\n",
    "Units['Marine'] = Marine\n",
    "\n",
    "SCV ={}\n",
    "# Combat stats\n",
    "SCV['hp'] = 45\n",
    "SCV['dps'] = 4.67\n",
    "SCV['ranged'] = False\n",
    "SCV['armor'] = 0\n",
    "SCV['attributes'] = {'Biological', 'Light', 'Mechanical', 'Ground'}\n",
    "SCV['targetable'] = {'Ground'}\n",
    "SCV['type'] = {'Ground'}\n",
    "SCV['bonuses'] = {}\n",
    "SCV['bonus_dps'] = 0\n",
    "SCV['healer'] = True\n",
    "# Resource stats\n",
    "SCV['mineral'] = 50\n",
    "SCV['gas'] = 0\n",
    "SCV['time'] = 12\n",
    "SCV['supply'] = 1\n",
    "Terran_Units['SCV'] = SCV\n",
    "Units['SCV'] = SCV"
   ]
  },
  {
   "cell_type": "markdown",
   "id": "0efc7f5c",
   "metadata": {},
   "source": [
    "The SCV and Medivac names will be flagged in the simulator so that they repair/heal with priority. Medivacs heal a flat 12.6 hps whereas SCVs heal rate differs per unit. Repair rates for SCV found here: https://tl.net/forum/sc2-strategy/160734-repair-speed-per-unit"
   ]
  },
  {
   "cell_type": "code",
   "execution_count": 3,
   "id": "572a0865",
   "metadata": {},
   "outputs": [],
   "source": [
    "medivac_heal = 12.6\n",
    "\n",
    "scv_repair = {}\n",
    "scv_repair['SCV'] = 2.6\n",
    "scv_repair['Hellion'] = 3\n",
    "scv_repair['Siege'] = 3.5\n",
    "scv_repair['Thor'] = 6.6\n",
    "scv_repair['Viking'] = 2.9\n",
    "scv_repair['Medivac'] = 3.5\n",
    "scv_repair['Raven'] = 2.3\n",
    "scv_repair['Banshee'] = 2.3"
   ]
  },
  {
   "cell_type": "code",
   "execution_count": null,
   "id": "49466105",
   "metadata": {},
   "outputs": [],
   "source": []
  },
  {
   "cell_type": "markdown",
   "id": "647c0946",
   "metadata": {},
   "source": [
    "Function for running combat sim.\n",
    "Input: dictionary of enemy army, dictionary of testing army\n",
    "    dictionary of armies has unit name as keys, unit count as values\n",
    "Output: dictionary of testing army"
   ]
  },
  {
   "cell_type": "code",
   "execution_count": 41,
   "id": "ebf149de",
   "metadata": {},
   "outputs": [],
   "source": [
    "# test enemy army\n",
    "enemy_army_comp = {}\n",
    "enemy_army_comp['SCV'] = 2\n",
    "enemy_army_comp['Marine'] = 3\n",
    "\n",
    "# test test_army\n",
    "test_army_comp = {}\n",
    "test_army_comp['SCV'] = 0\n",
    "test_army_comp['Marine'] = 3"
   ]
  },
  {
   "cell_type": "markdown",
   "id": "1a791765",
   "metadata": {},
   "source": [
    "We will keep track of individual units within our army simulation by using a custom army Unit class"
   ]
  },
  {
   "cell_type": "code",
   "execution_count": 59,
   "id": "7bfba0b1",
   "metadata": {},
   "outputs": [],
   "source": [
    "class Unit:\n",
    "    def __init__(self, name):\n",
    "        \"\"\"\n",
    "        Creates a new Unit object with the stats of the given name\n",
    "        \"\"\"\n",
    "        self.name = name\n",
    "        self.hp = Units[name]['hp']\n",
    "        self.dps = Units[name]['dps']\n",
    "        self.ranged = Units[name]['ranged']\n",
    "        self.armor = Units[name]['armor']\n",
    "        self.attributes = Units[name]['attributes']\n",
    "        self.type = Units[name]['type']\n",
    "        self.targetable = Units[name]['targetable']\n",
    "        self.bonuses = Units[name]['bonuses']\n",
    "        self.bonus_dps = Units[name]['bonus_dps']\n",
    "        self.healer = Units[name]['healer']\n",
    "    \n",
    "    def __str__(self):\n",
    "        return self.name\n",
    "    \n",
    "    def __repr__(self):\n",
    "        return str(self.name) + \"_HP:\" + str(self.hp)"
   ]
  },
  {
   "cell_type": "code",
   "execution_count": 42,
   "id": "760d16c0",
   "metadata": {},
   "outputs": [],
   "source": [
    "enemy_army = build_army(enemy_army_comp)\n",
    "test_army = build_army(test_army_comp)"
   ]
  },
  {
   "cell_type": "code",
   "execution_count": 43,
   "id": "9a2e72fd",
   "metadata": {},
   "outputs": [
    {
     "data": {
      "text/plain": [
       "[SCV_HP:45, SCV_HP:45, Marine_HP:45, Marine_HP:45, Marine_HP:45]"
      ]
     },
     "execution_count": 43,
     "metadata": {},
     "output_type": "execute_result"
    }
   ],
   "source": [
    "enemy_army"
   ]
  },
  {
   "cell_type": "code",
   "execution_count": 44,
   "id": "0ab70033",
   "metadata": {},
   "outputs": [
    {
     "data": {
      "text/plain": [
       "[Marine_HP:45, Marine_HP:45, Marine_HP:45]"
      ]
     },
     "execution_count": 44,
     "metadata": {},
     "output_type": "execute_result"
    }
   ],
   "source": [
    "test_army"
   ]
  },
  {
   "cell_type": "code",
   "execution_count": 47,
   "id": "928eb9dd",
   "metadata": {},
   "outputs": [
    {
     "name": "stdout",
     "output_type": "stream",
     "text": [
      "SCV\n",
      "SCV\n",
      "Marine\n",
      "Marine\n",
      "Marine\n"
     ]
    }
   ],
   "source": [
    "for enemy in enemy_army:\n",
    "    print(enemy)"
   ]
  },
  {
   "cell_type": "code",
   "execution_count": null,
   "id": "a4069193",
   "metadata": {},
   "outputs": [],
   "source": [
    "deal_damage(test_army, enemy_army)"
   ]
  },
  {
   "cell_type": "code",
   "execution_count": null,
   "id": "a3e57814",
   "metadata": {},
   "outputs": [],
   "source": [
    "enemy_army"
   ]
  },
  {
   "cell_type": "code",
   "execution_count": null,
   "id": "f8aa3eb3",
   "metadata": {},
   "outputs": [],
   "source": [
    "marine1 = Unit(\"Marine\")\n",
    "marine2 = Unit(\"Marine\")\n",
    "marine3 = marine1"
   ]
  },
  {
   "cell_type": "code",
   "execution_count": null,
   "id": "bbe397a2",
   "metadata": {},
   "outputs": [],
   "source": [
    "marine1.hp = 0\n",
    "marine3.hp"
   ]
  },
  {
   "cell_type": "code",
   "execution_count": 6,
   "id": "b5684920",
   "metadata": {},
   "outputs": [],
   "source": [
    "def get_health(army):\n",
    "    \"\"\"\n",
    "    Input is list of Units in an army\n",
    "    Returns the sum of the remaining units in that army\n",
    "    \"\"\"\n",
    "    health = 0\n",
    "    for unit in army:\n",
    "        health += unit.hp\n",
    "    return health"
   ]
  },
  {
   "cell_type": "code",
   "execution_count": 7,
   "id": "62e75598",
   "metadata": {},
   "outputs": [],
   "source": [
    "def build_army(army_comp):\n",
    "    \"\"\"\n",
    "    Input is a dictionary representing an army composition\n",
    "    Returns a list of Units matching the army composition\n",
    "    \"\"\"\n",
    "    army = []\n",
    "    for name in army_comp:\n",
    "        count = army_comp[name]\n",
    "        while count >= 1:\n",
    "            army.append(Unit(name))\n",
    "            count -= 1\n",
    "    return army"
   ]
  },
  {
   "cell_type": "code",
   "execution_count": 79,
   "id": "db601308",
   "metadata": {},
   "outputs": [],
   "source": [
    "def get_attackable_unit(unit, enemy_army):\n",
    "    \"\"\"\n",
    "    Input is attacking Unit and list of Units in enemy army\n",
    "    Returns a random Unit in enemy army that attacking unit can attack\n",
    "    If no enemy Unit can be attacked, return None\n",
    "    \"\"\"\n",
    "    # create list of enemies unit can attack\n",
    "    # targeting type (ground/air) and if enemy has hp>0\n",
    "    enemies = []\n",
    "    for enemy in enemy_army:\n",
    "        if enemy.hp > 0:\n",
    "            targetable = 0\n",
    "            for target_type in unit.targetable:\n",
    "                for enemy_type in enemy.type:\n",
    "                    targetable += int(enemy_type == target_type)\n",
    "            if targetable > 0:\n",
    "                enemies.append(enemy)\n",
    "    if len(enemies) == 0:\n",
    "        return None\n",
    "    else:\n",
    "        # randomly chooses an enemy to attack\n",
    "        index = random.randint(0,len(enemies)-1)\n",
    "        enemy = enemies[index]\n",
    "        return enemy"
   ]
  },
  {
   "cell_type": "code",
   "execution_count": 9,
   "id": "e23af604",
   "metadata": {},
   "outputs": [],
   "source": [
    "def deal_damage(army, enemy_army):\n",
    "    \"\"\"\n",
    "    Input army is a list of attacking Units,\n",
    "    enemy_army is list of Units being attacked.\n",
    "    Calculates the damage dealt to enemy_army by all attacking units\n",
    "    Updates the list of enemy Units with damaged health numbers\n",
    "    \"\"\"\n",
    "    for unit in army:\n",
    "        deal_unit_dps(unit, enemy_army)"
   ]
  },
  {
   "cell_type": "code",
   "execution_count": 10,
   "id": "f9e4174b",
   "metadata": {},
   "outputs": [],
   "source": [
    "def deal_unit_dps(unit, enemy_army):\n",
    "    \"\"\"\n",
    "    Input is attacking Unit and list of Units being attacked\n",
    "    Calculates the damage dealt to enemy army by the single unit\n",
    "    Updates the list of enemy Units with damaged health numbers\n",
    "    \"\"\"\n",
    "    damage = unit.dps\n",
    "    bonus_dmg = unit.bonus_dps\n",
    "    while (damage > 0) and (get_attackable_unit(unit, enemy_army) is not None):\n",
    "        enemy = get_attackable_unit(unit, enemy_army)\n",
    "        # check for bonus damage. bonus damage is kept seperate from\n",
    "        # normal damage\n",
    "        bonus = 0\n",
    "        # so long as there is some bonus dps to damage, check if\n",
    "        # there is at least one matching attribute\n",
    "        if bonus_dmg > 0:\n",
    "            for bonus_att in unit.bonuses:\n",
    "                for att in enemy.attributes:\n",
    "                    bonus += int(bonus_att == att)\n",
    "        if bonus > 0:\n",
    "            bonus_dmg_tmp = bonus_dmg\n",
    "            bonus_dmg -= enemy.hp\n",
    "            enemy.hp -= bonus_dmg_tmp\n",
    "        dmg_temp = damage\n",
    "        damage -= enemy.hp\n",
    "        enemy.hp -= dmg_temp"
   ]
  },
  {
   "cell_type": "code",
   "execution_count": 70,
   "id": "a273685a",
   "metadata": {},
   "outputs": [],
   "source": [
    "def deal_ranged_dps(army, enemy_army):\n",
    "    \"\"\"\n",
    "    Input army is a list of attacking Units,\n",
    "    enemy_army is list of Units being attacked.\n",
    "    Calculates the damage dealt to enemy_army only by ranged units\n",
    "    Updates the list of enemy Units with damaged health numbers\n",
    "    \"\"\"\n",
    "    for unit in army:\n",
    "        if unit.ranged:\n",
    "            deal_unit_dps(unit, enemy_army)"
   ]
  },
  {
   "cell_type": "code",
   "execution_count": 12,
   "id": "c85f514a",
   "metadata": {},
   "outputs": [],
   "source": [
    "def remove_dead_units(army):\n",
    "    \"\"\"\n",
    "    Input is a list of Units in an army\n",
    "    Removes all Units with hp <=0 from that list\n",
    "    Returns updated list\n",
    "    \"\"\"\n",
    "    new_army = []\n",
    "    for unit in army:\n",
    "        if unit.hp >= 0:\n",
    "            new_army.append(unit)\n",
    "    return new_army"
   ]
  },
  {
   "cell_type": "markdown",
   "id": "1b664c23",
   "metadata": {},
   "source": []
  },
  {
   "cell_type": "code",
   "execution_count": 84,
   "id": "6b5fc1d7",
   "metadata": {},
   "outputs": [],
   "source": [
    "def combat_sim(army_comp1, army_comp2):\n",
    "    \"\"\"\n",
    "    Input two army compositions written as dictionary with unit names as\n",
    "    keys, unit counts as values. Simulates combat with the two army.\n",
    "    Returns remaining army composition of army2\n",
    "    \"\"\"\n",
    "    army1 = build_army(army_comp1)\n",
    "    army2 = build_army(army_comp2)\n",
    "    round1 = True\n",
    "    while ((get_health(army1) > 0) and (get_health(army2) > 0)):\n",
    "        if round1:\n",
    "            deal_ranged_dps(army1, army2)\n",
    "            deal_ranged_dps(army2, army1)\n",
    "            army1 = remove_dead_units(army1)\n",
    "            army2 = remove_dead_units(army2)\n",
    "            round1 = False\n",
    "        else:\n",
    "            deal_damage(army1, army2)\n",
    "            deal_damage(army2, army1)\n",
    "            army1 = remove_dead_units(army1)\n",
    "            army2 = remove_dead_units(army2)\n",
    "    print(\"Attacking army:\")\n",
    "    print(army1)\n",
    "    print()\n",
    "    print(\"Enemy Army:\")\n",
    "    print(army2)"
   ]
  },
  {
   "cell_type": "code",
   "execution_count": 87,
   "id": "8f1768f1",
   "metadata": {},
   "outputs": [
    {
     "name": "stdout",
     "output_type": "stream",
     "text": [
      "Attacking army:\n",
      "[]\n",
      "\n",
      "Enemy Army:\n",
      "[SCV_HP:35.2, Marine_HP:15.600000000000001, Marine_HP:31.200000000000003, Marine_HP:25.400000000000002]\n"
     ]
    }
   ],
   "source": [
    "combat_sim(test_army_comp, enemy_army_comp)"
   ]
  },
  {
   "cell_type": "code",
   "execution_count": null,
   "id": "1357612b",
   "metadata": {},
   "outputs": [],
   "source": []
  },
  {
   "cell_type": "code",
   "execution_count": null,
   "id": "3b05c42a",
   "metadata": {},
   "outputs": [],
   "source": []
  }
 ],
 "metadata": {
  "kernelspec": {
   "display_name": "Python 3 (ipykernel)",
   "language": "python",
   "name": "python3"
  },
  "language_info": {
   "codemirror_mode": {
    "name": "ipython",
    "version": 3
   },
   "file_extension": ".py",
   "mimetype": "text/x-python",
   "name": "python",
   "nbconvert_exporter": "python",
   "pygments_lexer": "ipython3",
   "version": "3.7.10"
  }
 },
 "nbformat": 4,
 "nbformat_minor": 5
}
