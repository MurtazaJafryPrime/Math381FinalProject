{
 "cells": [
  {
   "cell_type": "markdown",
   "id": "42fbb471",
   "metadata": {},
   "source": [
    "Contains the base ideas for our linear program code"
   ]
  },
  {
   "cell_type": "code",
   "execution_count": 1,
   "id": "e1893b5d",
   "metadata": {},
   "outputs": [],
   "source": [
    "from pyscipopt import Model, quicksum\n",
    "from simulator import combat_sim\n",
    "from simulator import test_units\n",
    "from simulator import get_health\n",
    "from simulator import get_damage"
   ]
  },
  {
   "cell_type": "markdown",
   "id": "acb884ba",
   "metadata": {},
   "source": [
    "This line here will eventually be swapped out with a function call to read our database of unit stats"
   ]
  },
  {
   "cell_type": "code",
   "execution_count": 2,
   "id": "edbc08f0",
   "metadata": {},
   "outputs": [],
   "source": [
    "Units = test_units()"
   ]
  },
  {
   "cell_type": "markdown",
   "id": "6199f864",
   "metadata": {},
   "source": [
    "Viability function copied directly from earlier, separate snippet"
   ]
  },
  {
   "cell_type": "code",
   "execution_count": 3,
   "id": "790480d5",
   "metadata": {},
   "outputs": [],
   "source": [
    "def viability(enemy_comp, test_comp, test_type='units'):\n",
    "    \"\"\"\n",
    "    Input is the enemy army composition, the army composition that\n",
    "    we are testing, and the type of viablity test we are running.\n",
    "    test_type is a string, either \"units\", \"health\", or \"damage\"\n",
    "    Runs simulation 200 times. If the test army has at\n",
    "    least 10% of its test type remaining 90% of the time, return 1\n",
    "    Otherwise return 0\n",
    "    \"\"\"\n",
    "    test_limit = 0\n",
    "    if test_type == 'units':\n",
    "        unit_count = 0\n",
    "        for unit in test_comp:\n",
    "            unit_count += test_comp[unit]\n",
    "        test_limit = 0.1 * unit_count\n",
    "    \n",
    "    if test_type == 'health':\n",
    "        army_health = 0\n",
    "        for unit in test_comp:\n",
    "            unit_hp = Units[unit]['hp']\n",
    "            army_health += unit_hp * test_comp[unit]\n",
    "        test_limit = 0.1 * army_health\n",
    "    if test_type == 'damage':\n",
    "        army_dmg = 0\n",
    "        for unit in test_comp:\n",
    "            unit_dmg = Units[unit]['dps']\n",
    "            army_dmg += unit_dmg * test_comp[unit]\n",
    "        test_limit = 0.1 * army_dmg\n",
    "    \n",
    "    wins = 0\n",
    "    sim_count = 200\n",
    "    sims = sim_count\n",
    "    while sims > 0:\n",
    "        test_army = combat_sim(enemy_comp, test_comp)\n",
    "        if (test_type == 'units') and (len(test_army) > test_limit):\n",
    "            wins += 1\n",
    "        elif (test_type == 'health') and (get_health(test_army) > test_limit):\n",
    "            wins += 1\n",
    "        elif (test_type == 'damage') and (get_damage(test_army) > test_limit):\n",
    "            wins += 1\n",
    "        sims -= 1\n",
    "    if (wins / sim_count) > 0.9:\n",
    "        return 1\n",
    "    else:\n",
    "        return 0"
   ]
  },
  {
   "cell_type": "markdown",
   "id": "f6a89b2c",
   "metadata": {},
   "source": [
    "First build of our main code only deals with one linear program (optimize for resource cost). Later builds should include a parameter so that we can reuse most of the code for other optimizations such as total build time."
   ]
  },
  {
   "cell_type": "markdown",
   "id": "dbff99ab",
   "metadata": {},
   "source": [
    "Right now, resource cost is calculated much in the same way the army value stat is calculated in-game; the resource cost of a unit is the sum of the gas and mineral cost of that unit. How much a player actually values gas vs minerals usually depends on how much they currently have available and how much they are producing. A skilled player might also have an idea of what sort of units or research they want to be building."
   ]
  },
  {
   "cell_type": "markdown",
   "id": "f61cc9ab",
   "metadata": {},
   "source": [
    "Recall for the linear program, objective function is to minimize\n",
    "$$\\sum_{name} cost[name] \\cdot count[name]$$\n",
    "with the two constraints being stay below the supply cap\n",
    "$$\\sum_{name} count[name] \\cdot supply[name] \\leq 200$$\n",
    "and make sure that army comp is viable\n",
    "$$viable_{army} \\geq 1$$"
   ]
  },
  {
   "cell_type": "markdown",
   "id": "d43c94cb",
   "metadata": {},
   "source": [
    "The task at hand is to figure out how to deal with creating these variables in our linear program. The viable variable is per army composition, and so to initialize it we would need to preconstruct and itterate through all possible army comps with supply $\\leq$ 200, then assign each of those comps a viable variable.\n",
    "\n",
    "Basically, the issue is that the viable variable deals with army compositions as a whole, not individual units"
   ]
  },
  {
   "cell_type": "code",
   "execution_count": null,
   "id": "2397204f",
   "metadata": {},
   "outputs": [],
   "source": [
    "def init_army_comps(race='Terran'):\n",
    "    \"\"\"\n",
    "    Input is the race we wish to build army comps for\n",
    "    Creates a list of all possible army compositions with\n",
    "    total supply <= 200\n",
    "    Returns that list of army compositions\n",
    "    \"\"\"\n",
    "    "
   ]
  },
  {
   "cell_type": "markdown",
   "id": "332a045b",
   "metadata": {},
   "source": [
    "Main function for our linear program will be below"
   ]
  },
  {
   "cell_type": "code",
   "execution_count": null,
   "id": "35a11e86",
   "metadata": {},
   "outputs": [],
   "source": [
    "def find_optimal_army(enemy_comp, test_type='cost', race='Terran', viab='units'):\n",
    "    \"\"\"\n",
    "    Input is the army composition we are trying to optimize against\n",
    "    test_type is a string, either \"cost\" or \"time\", determines what we\n",
    "    are optimizing for. race is a string, either \"Terran\", \"Protoss\", or \"Zerg\",\n",
    "    that we are creating our test army from.\n",
    "    viab is a string, either 'units', 'health', or 'damage' that determines\n",
    "    our viability function\n",
    "    Finds an army composition of the given race that is the most efficent in terms of test_type\n",
    "    Returns that optimal army composition\n",
    "    \"\"\"\n",
    "    army_model = Model(\"StarCraftII Army\")\n",
    "    \n",
    "    \n",
    "    "
   ]
  }
 ],
 "metadata": {
  "kernelspec": {
   "display_name": "Python 3 (ipykernel)",
   "language": "python",
   "name": "python3"
  },
  "language_info": {
   "codemirror_mode": {
    "name": "ipython",
    "version": 3
   },
   "file_extension": ".py",
   "mimetype": "text/x-python",
   "name": "python",
   "nbconvert_exporter": "python",
   "pygments_lexer": "ipython3",
   "version": "3.7.10"
  }
 },
 "nbformat": 4,
 "nbformat_minor": 5
}
