{
 "cells": [
  {
   "cell_type": "markdown",
   "id": "6057ab07",
   "metadata": {},
   "source": [
    "Contains the base ideas for our linear program code"
   ]
  },
  {
   "cell_type": "code",
   "execution_count": 1,
   "id": "11f57cf3",
   "metadata": {},
   "outputs": [],
   "source": [
    "from pyscipopt import Model, quicksum\n",
    "from simulator import combat_sim\n",
    "from simulator import get_health\n",
    "from simulator import get_damage\n",
    "from sim_units import get_Units, get_Terran, get_Protoss, get_Zerg"
   ]
  },
  {
   "cell_type": "code",
   "execution_count": 2,
   "id": "78890dde",
   "metadata": {},
   "outputs": [],
   "source": [
    "from itertools import product"
   ]
  },
  {
   "cell_type": "code",
   "execution_count": 3,
   "id": "432d0852",
   "metadata": {},
   "outputs": [],
   "source": [
    "import json"
   ]
  },
  {
   "cell_type": "markdown",
   "id": "1bd8905e",
   "metadata": {},
   "source": [
    "This line here will eventually be swapped out with a function call to read our database of unit stats"
   ]
  },
  {
   "cell_type": "code",
   "execution_count": 4,
   "id": "41a380ea",
   "metadata": {},
   "outputs": [],
   "source": [
    "Units = get_Units()\n",
    "Terran_Units = get_Terran()\n",
    "Protoss_Units = get_Protoss()\n",
    "Zerg_Units = get_Zerg()"
   ]
  },
  {
   "cell_type": "markdown",
   "id": "8c191bb8",
   "metadata": {},
   "source": [
    "Viability function copied directly from earlier, separate snippet"
   ]
  },
  {
   "cell_type": "code",
   "execution_count": null,
   "id": "1e658d63",
   "metadata": {},
   "outputs": [],
   "source": [
    "def viability(enemy_comp, test_comp, test_type='units'):\n",
    "    \"\"\"\n",
    "    Input is the enemy army composition, the army composition that\n",
    "    we are testing, and the type of viablity test we are running.\n",
    "    test_type is a string, either \"units\", \"health\", or \"damage\"\n",
    "    Runs simulation 200 times. If the test army has at\n",
    "    least 10% of its test type remaining 90% of the time, return 1\n",
    "    Otherwise return 0\n",
    "    \"\"\"\n",
    "    test_limit = 0\n",
    "    if test_type == 'units':\n",
    "        unit_count = 0\n",
    "        for unit in test_comp:\n",
    "            unit_count += test_comp[unit]\n",
    "        test_limit = 0.1 * unit_count\n",
    "    \n",
    "    if test_type == 'health':\n",
    "        army_health = 0\n",
    "        for unit in test_comp:\n",
    "            unit_hp = Units[unit]['hp']\n",
    "            army_health += unit_hp * test_comp[unit]\n",
    "        test_limit = 0.1 * army_health\n",
    "    if test_type == 'damage':\n",
    "        army_dmg = 0\n",
    "        for unit in test_comp:\n",
    "            unit_dmg = Units[unit]['dps']\n",
    "            army_dmg += unit_dmg * test_comp[unit]\n",
    "        test_limit = 0.1 * army_dmg\n",
    "    \n",
    "    wins = 0\n",
    "    sim_count = 200\n",
    "    sims = sim_count\n",
    "    while sims > 0:\n",
    "        test_army = combat_sim(enemy_comp, test_comp)\n",
    "        if (test_type == 'units') and (len(test_army) > test_limit):\n",
    "            wins += 1\n",
    "        elif (test_type == 'health') and (get_health(test_army) > test_limit):\n",
    "            wins += 1\n",
    "        elif (test_type == 'damage') and (get_damage(test_army) > test_limit):\n",
    "            wins += 1\n",
    "        sims -= 1\n",
    "    if (wins / sim_count) > 0.9:\n",
    "        return 1\n",
    "    else:\n",
    "        return 0"
   ]
  },
  {
   "cell_type": "markdown",
   "id": "3db750e4",
   "metadata": {},
   "source": [
    "First build of our main code only deals with one linear program (optimize for resource cost). Later builds should include a parameter so that we can reuse most of the code for other optimizations such as total build time."
   ]
  },
  {
   "cell_type": "markdown",
   "id": "3c7a37a9",
   "metadata": {},
   "source": [
    "Right now, resource cost is calculated much in the same way the army value stat is calculated in-game; the resource cost of a unit is the sum of the gas and mineral cost of that unit. How much a player actually values gas vs minerals usually depends on how much they currently have available and how much they are producing. A skilled player might also have an idea of what sort of units or research they want to be building."
   ]
  },
  {
   "cell_type": "markdown",
   "id": "438b1e6f",
   "metadata": {},
   "source": [
    "Recall for the linear program, objective function is to minimize\n",
    "$$\\sum_{name} cost[name] \\cdot count[name]$$\n",
    "with the two constraints being stay below the supply cap\n",
    "$$\\sum_{name} count[name] \\cdot supply[name] \\leq 200$$\n",
    "and make sure that army comp is viable\n",
    "$$viable_{army} \\geq 1$$"
   ]
  },
  {
   "cell_type": "markdown",
   "id": "e9593155",
   "metadata": {},
   "source": [
    "The task at hand is to figure out how to deal with creating these variables in our linear program. The viable variable is per army composition, and so to initialize it we would need to preconstruct and itterate through all possible army comps with supply $\\leq$ 200, then assign each of those comps a viable variable.\n",
    "\n",
    "Basically, the issue is that the viable variable deals with army compositions as a whole, not individual units"
   ]
  },
  {
   "cell_type": "code",
   "execution_count": 5,
   "id": "cfefd773",
   "metadata": {},
   "outputs": [],
   "source": [
    "def init_army_comps(race, supply_cap=200):\n",
    "    \"\"\"\n",
    "    Input is the race we wish to build army comps for\n",
    "    Creates a list of all possible army compositions with\n",
    "    total supply <= supply_cap (default 200)\n",
    "    Returns that list of army compositions\n",
    "    \"\"\"\n",
    "    race_units = {}\n",
    "    if race == 'Terran':\n",
    "        race_units = list(get_Terran().keys())\n",
    "    elif race == 'Protoss':\n",
    "        race_units = list(get_Protoss().keys())\n",
    "        # Intercceptors are a special case\n",
    "        race_units.remove('Interceptor')\n",
    "    elif race == 'Zerg':\n",
    "        race_units = list(get_Zerg().keys())\n",
    "    \n",
    "    comps = []\n",
    "    \n",
    "    # create all possible combinations of army comps\n",
    "    base = {}\n",
    "    for name in race_units:\n",
    "        base[name] = 0\n",
    "    # note in final version, it will be range(supply_cap)\n",
    "    # we use range(3) for testing since it is faster\n",
    "    prod = product(range(3), repeat=len(base))\n",
    "    prod = list(prod)\n",
    "    for combo in prod:\n",
    "        comp = base\n",
    "        i = 0\n",
    "        for n in base:\n",
    "            comp[n] = combo[i]\n",
    "            i += 1\n",
    "            temp_comp = comp.copy()\n",
    "            if temp_comp not in comps:\n",
    "                comps.append(temp_comp)\n",
    "    # remove all comps with more than one Mothership\n",
    "    # or more than 200 supply\n",
    "    for comp in comps:\n",
    "        if (get_army_supply(comp) > supply_cap) or extra_Motherships(comp):\n",
    "            comps.remove(comp)\n",
    "    \n",
    "    return comps"
   ]
  },
  {
   "cell_type": "code",
   "execution_count": 13,
   "id": "e0630a62",
   "metadata": {},
   "outputs": [],
   "source": [
    "with open('Terran_comps.json', 'w') as fout:\n",
    "    json.dump(init_army_comps('Terran'), fout)"
   ]
  },
  {
   "cell_type": "markdown",
   "id": "3b6b76fa",
   "metadata": {},
   "source": [
    "Use this to read JSON file"
   ]
  },
  {
   "cell_type": "code",
   "execution_count": 14,
   "id": "61d2a8f2",
   "metadata": {},
   "outputs": [
    {
     "name": "stdout",
     "output_type": "stream",
     "text": [
      "[{'Marine': 0, 'SCV': 0, 'Medivac': 0, 'Hellion': 0}, {'Marine': 0, 'SCV': 0, 'Medivac': 0, 'Hellion': 1}, {'Marine': 0, 'SCV': 0, 'Medivac': 0, 'Hellion': 2}, {'Marine': 0, 'SCV': 0, 'Medivac': 1, 'Hellion': 2}, {'Marine': 0, 'SCV': 0, 'Medivac': 1, 'Hellion': 0}, {'Marine': 0, 'SCV': 0, 'Medivac': 1, 'Hellion': 1}, {'Marine': 0, 'SCV': 0, 'Medivac': 2, 'Hellion': 2}, {'Marine': 0, 'SCV': 0, 'Medivac': 2, 'Hellion': 0}, {'Marine': 0, 'SCV': 0, 'Medivac': 2, 'Hellion': 1}, {'Marine': 0, 'SCV': 1, 'Medivac': 2, 'Hellion': 2}, {'Marine': 0, 'SCV': 1, 'Medivac': 0, 'Hellion': 2}, {'Marine': 0, 'SCV': 1, 'Medivac': 0, 'Hellion': 0}, {'Marine': 0, 'SCV': 1, 'Medivac': 0, 'Hellion': 1}, {'Marine': 0, 'SCV': 1, 'Medivac': 1, 'Hellion': 2}, {'Marine': 0, 'SCV': 1, 'Medivac': 1, 'Hellion': 0}, {'Marine': 0, 'SCV': 1, 'Medivac': 1, 'Hellion': 1}, {'Marine': 0, 'SCV': 1, 'Medivac': 2, 'Hellion': 0}, {'Marine': 0, 'SCV': 1, 'Medivac': 2, 'Hellion': 1}, {'Marine': 0, 'SCV': 2, 'Medivac': 2, 'Hellion': 2}, {'Marine': 0, 'SCV': 2, 'Medivac': 0, 'Hellion': 2}, {'Marine': 0, 'SCV': 2, 'Medivac': 0, 'Hellion': 0}, {'Marine': 0, 'SCV': 2, 'Medivac': 0, 'Hellion': 1}, {'Marine': 0, 'SCV': 2, 'Medivac': 1, 'Hellion': 2}, {'Marine': 0, 'SCV': 2, 'Medivac': 1, 'Hellion': 0}, {'Marine': 0, 'SCV': 2, 'Medivac': 1, 'Hellion': 1}, {'Marine': 0, 'SCV': 2, 'Medivac': 2, 'Hellion': 0}, {'Marine': 0, 'SCV': 2, 'Medivac': 2, 'Hellion': 1}, {'Marine': 1, 'SCV': 2, 'Medivac': 2, 'Hellion': 2}, {'Marine': 1, 'SCV': 0, 'Medivac': 2, 'Hellion': 2}, {'Marine': 1, 'SCV': 0, 'Medivac': 0, 'Hellion': 2}, {'Marine': 1, 'SCV': 0, 'Medivac': 0, 'Hellion': 0}, {'Marine': 1, 'SCV': 0, 'Medivac': 0, 'Hellion': 1}, {'Marine': 1, 'SCV': 0, 'Medivac': 1, 'Hellion': 2}, {'Marine': 1, 'SCV': 0, 'Medivac': 1, 'Hellion': 0}, {'Marine': 1, 'SCV': 0, 'Medivac': 1, 'Hellion': 1}, {'Marine': 1, 'SCV': 0, 'Medivac': 2, 'Hellion': 0}, {'Marine': 1, 'SCV': 0, 'Medivac': 2, 'Hellion': 1}, {'Marine': 1, 'SCV': 1, 'Medivac': 2, 'Hellion': 2}, {'Marine': 1, 'SCV': 1, 'Medivac': 0, 'Hellion': 2}, {'Marine': 1, 'SCV': 1, 'Medivac': 0, 'Hellion': 0}, {'Marine': 1, 'SCV': 1, 'Medivac': 0, 'Hellion': 1}, {'Marine': 1, 'SCV': 1, 'Medivac': 1, 'Hellion': 2}, {'Marine': 1, 'SCV': 1, 'Medivac': 1, 'Hellion': 0}, {'Marine': 1, 'SCV': 1, 'Medivac': 1, 'Hellion': 1}, {'Marine': 1, 'SCV': 1, 'Medivac': 2, 'Hellion': 0}, {'Marine': 1, 'SCV': 1, 'Medivac': 2, 'Hellion': 1}, {'Marine': 1, 'SCV': 2, 'Medivac': 0, 'Hellion': 2}, {'Marine': 1, 'SCV': 2, 'Medivac': 0, 'Hellion': 0}, {'Marine': 1, 'SCV': 2, 'Medivac': 0, 'Hellion': 1}, {'Marine': 1, 'SCV': 2, 'Medivac': 1, 'Hellion': 2}, {'Marine': 1, 'SCV': 2, 'Medivac': 1, 'Hellion': 0}, {'Marine': 1, 'SCV': 2, 'Medivac': 1, 'Hellion': 1}, {'Marine': 1, 'SCV': 2, 'Medivac': 2, 'Hellion': 0}, {'Marine': 1, 'SCV': 2, 'Medivac': 2, 'Hellion': 1}, {'Marine': 2, 'SCV': 2, 'Medivac': 2, 'Hellion': 2}, {'Marine': 2, 'SCV': 0, 'Medivac': 2, 'Hellion': 2}, {'Marine': 2, 'SCV': 0, 'Medivac': 0, 'Hellion': 2}, {'Marine': 2, 'SCV': 0, 'Medivac': 0, 'Hellion': 0}, {'Marine': 2, 'SCV': 0, 'Medivac': 0, 'Hellion': 1}, {'Marine': 2, 'SCV': 0, 'Medivac': 1, 'Hellion': 2}, {'Marine': 2, 'SCV': 0, 'Medivac': 1, 'Hellion': 0}, {'Marine': 2, 'SCV': 0, 'Medivac': 1, 'Hellion': 1}, {'Marine': 2, 'SCV': 0, 'Medivac': 2, 'Hellion': 0}, {'Marine': 2, 'SCV': 0, 'Medivac': 2, 'Hellion': 1}, {'Marine': 2, 'SCV': 1, 'Medivac': 2, 'Hellion': 2}, {'Marine': 2, 'SCV': 1, 'Medivac': 0, 'Hellion': 2}, {'Marine': 2, 'SCV': 1, 'Medivac': 0, 'Hellion': 0}, {'Marine': 2, 'SCV': 1, 'Medivac': 0, 'Hellion': 1}, {'Marine': 2, 'SCV': 1, 'Medivac': 1, 'Hellion': 2}, {'Marine': 2, 'SCV': 1, 'Medivac': 1, 'Hellion': 0}, {'Marine': 2, 'SCV': 1, 'Medivac': 1, 'Hellion': 1}, {'Marine': 2, 'SCV': 1, 'Medivac': 2, 'Hellion': 0}, {'Marine': 2, 'SCV': 1, 'Medivac': 2, 'Hellion': 1}, {'Marine': 2, 'SCV': 2, 'Medivac': 0, 'Hellion': 2}, {'Marine': 2, 'SCV': 2, 'Medivac': 0, 'Hellion': 0}, {'Marine': 2, 'SCV': 2, 'Medivac': 0, 'Hellion': 1}, {'Marine': 2, 'SCV': 2, 'Medivac': 1, 'Hellion': 2}, {'Marine': 2, 'SCV': 2, 'Medivac': 1, 'Hellion': 0}, {'Marine': 2, 'SCV': 2, 'Medivac': 1, 'Hellion': 1}, {'Marine': 2, 'SCV': 2, 'Medivac': 2, 'Hellion': 0}, {'Marine': 2, 'SCV': 2, 'Medivac': 2, 'Hellion': 1}]\n"
     ]
    }
   ],
   "source": [
    "with open(r\"Terran_comps.json\", \"r\") as read_file:\n",
    "    data = json.load(read_file)\n",
    "print(data)"
   ]
  },
  {
   "cell_type": "code",
   "execution_count": 9,
   "id": "2d70c404",
   "metadata": {},
   "outputs": [
    {
     "data": {
      "text/plain": [
       "[{'Marine': 0, 'SCV': 0, 'Medivac': 0, 'Hellion': 0},\n",
       " {'Marine': 0, 'SCV': 0, 'Medivac': 0, 'Hellion': 1},\n",
       " {'Marine': 0, 'SCV': 0, 'Medivac': 0, 'Hellion': 2},\n",
       " {'Marine': 0, 'SCV': 0, 'Medivac': 1, 'Hellion': 2},\n",
       " {'Marine': 0, 'SCV': 0, 'Medivac': 1, 'Hellion': 0},\n",
       " {'Marine': 0, 'SCV': 0, 'Medivac': 1, 'Hellion': 1},\n",
       " {'Marine': 0, 'SCV': 0, 'Medivac': 2, 'Hellion': 2},\n",
       " {'Marine': 0, 'SCV': 0, 'Medivac': 2, 'Hellion': 0},\n",
       " {'Marine': 0, 'SCV': 0, 'Medivac': 2, 'Hellion': 1},\n",
       " {'Marine': 0, 'SCV': 1, 'Medivac': 2, 'Hellion': 2},\n",
       " {'Marine': 0, 'SCV': 1, 'Medivac': 0, 'Hellion': 2},\n",
       " {'Marine': 0, 'SCV': 1, 'Medivac': 0, 'Hellion': 0},\n",
       " {'Marine': 0, 'SCV': 1, 'Medivac': 0, 'Hellion': 1},\n",
       " {'Marine': 0, 'SCV': 1, 'Medivac': 1, 'Hellion': 2},\n",
       " {'Marine': 0, 'SCV': 1, 'Medivac': 1, 'Hellion': 0},\n",
       " {'Marine': 0, 'SCV': 1, 'Medivac': 1, 'Hellion': 1},\n",
       " {'Marine': 0, 'SCV': 1, 'Medivac': 2, 'Hellion': 0},\n",
       " {'Marine': 0, 'SCV': 1, 'Medivac': 2, 'Hellion': 1},\n",
       " {'Marine': 0, 'SCV': 2, 'Medivac': 2, 'Hellion': 2},\n",
       " {'Marine': 0, 'SCV': 2, 'Medivac': 0, 'Hellion': 2},\n",
       " {'Marine': 0, 'SCV': 2, 'Medivac': 0, 'Hellion': 0},\n",
       " {'Marine': 0, 'SCV': 2, 'Medivac': 0, 'Hellion': 1},\n",
       " {'Marine': 0, 'SCV': 2, 'Medivac': 1, 'Hellion': 2},\n",
       " {'Marine': 0, 'SCV': 2, 'Medivac': 1, 'Hellion': 0},\n",
       " {'Marine': 0, 'SCV': 2, 'Medivac': 1, 'Hellion': 1},\n",
       " {'Marine': 0, 'SCV': 2, 'Medivac': 2, 'Hellion': 0},\n",
       " {'Marine': 0, 'SCV': 2, 'Medivac': 2, 'Hellion': 1},\n",
       " {'Marine': 1, 'SCV': 2, 'Medivac': 2, 'Hellion': 2},\n",
       " {'Marine': 1, 'SCV': 0, 'Medivac': 2, 'Hellion': 2},\n",
       " {'Marine': 1, 'SCV': 0, 'Medivac': 0, 'Hellion': 2},\n",
       " {'Marine': 1, 'SCV': 0, 'Medivac': 0, 'Hellion': 0},\n",
       " {'Marine': 1, 'SCV': 0, 'Medivac': 0, 'Hellion': 1},\n",
       " {'Marine': 1, 'SCV': 0, 'Medivac': 1, 'Hellion': 2},\n",
       " {'Marine': 1, 'SCV': 0, 'Medivac': 1, 'Hellion': 0},\n",
       " {'Marine': 1, 'SCV': 0, 'Medivac': 1, 'Hellion': 1},\n",
       " {'Marine': 1, 'SCV': 0, 'Medivac': 2, 'Hellion': 0},\n",
       " {'Marine': 1, 'SCV': 0, 'Medivac': 2, 'Hellion': 1},\n",
       " {'Marine': 1, 'SCV': 1, 'Medivac': 2, 'Hellion': 2},\n",
       " {'Marine': 1, 'SCV': 1, 'Medivac': 0, 'Hellion': 2},\n",
       " {'Marine': 1, 'SCV': 1, 'Medivac': 0, 'Hellion': 0},\n",
       " {'Marine': 1, 'SCV': 1, 'Medivac': 0, 'Hellion': 1},\n",
       " {'Marine': 1, 'SCV': 1, 'Medivac': 1, 'Hellion': 2},\n",
       " {'Marine': 1, 'SCV': 1, 'Medivac': 1, 'Hellion': 0},\n",
       " {'Marine': 1, 'SCV': 1, 'Medivac': 1, 'Hellion': 1},\n",
       " {'Marine': 1, 'SCV': 1, 'Medivac': 2, 'Hellion': 0},\n",
       " {'Marine': 1, 'SCV': 1, 'Medivac': 2, 'Hellion': 1},\n",
       " {'Marine': 1, 'SCV': 2, 'Medivac': 0, 'Hellion': 2},\n",
       " {'Marine': 1, 'SCV': 2, 'Medivac': 0, 'Hellion': 0},\n",
       " {'Marine': 1, 'SCV': 2, 'Medivac': 0, 'Hellion': 1},\n",
       " {'Marine': 1, 'SCV': 2, 'Medivac': 1, 'Hellion': 2},\n",
       " {'Marine': 1, 'SCV': 2, 'Medivac': 1, 'Hellion': 0},\n",
       " {'Marine': 1, 'SCV': 2, 'Medivac': 1, 'Hellion': 1},\n",
       " {'Marine': 1, 'SCV': 2, 'Medivac': 2, 'Hellion': 0},\n",
       " {'Marine': 1, 'SCV': 2, 'Medivac': 2, 'Hellion': 1},\n",
       " {'Marine': 2, 'SCV': 2, 'Medivac': 2, 'Hellion': 2},\n",
       " {'Marine': 2, 'SCV': 0, 'Medivac': 2, 'Hellion': 2},\n",
       " {'Marine': 2, 'SCV': 0, 'Medivac': 0, 'Hellion': 2},\n",
       " {'Marine': 2, 'SCV': 0, 'Medivac': 0, 'Hellion': 0},\n",
       " {'Marine': 2, 'SCV': 0, 'Medivac': 0, 'Hellion': 1},\n",
       " {'Marine': 2, 'SCV': 0, 'Medivac': 1, 'Hellion': 2},\n",
       " {'Marine': 2, 'SCV': 0, 'Medivac': 1, 'Hellion': 0},\n",
       " {'Marine': 2, 'SCV': 0, 'Medivac': 1, 'Hellion': 1},\n",
       " {'Marine': 2, 'SCV': 0, 'Medivac': 2, 'Hellion': 0},\n",
       " {'Marine': 2, 'SCV': 0, 'Medivac': 2, 'Hellion': 1},\n",
       " {'Marine': 2, 'SCV': 1, 'Medivac': 2, 'Hellion': 2},\n",
       " {'Marine': 2, 'SCV': 1, 'Medivac': 0, 'Hellion': 2},\n",
       " {'Marine': 2, 'SCV': 1, 'Medivac': 0, 'Hellion': 0},\n",
       " {'Marine': 2, 'SCV': 1, 'Medivac': 0, 'Hellion': 1},\n",
       " {'Marine': 2, 'SCV': 1, 'Medivac': 1, 'Hellion': 2},\n",
       " {'Marine': 2, 'SCV': 1, 'Medivac': 1, 'Hellion': 0},\n",
       " {'Marine': 2, 'SCV': 1, 'Medivac': 1, 'Hellion': 1},\n",
       " {'Marine': 2, 'SCV': 1, 'Medivac': 2, 'Hellion': 0},\n",
       " {'Marine': 2, 'SCV': 1, 'Medivac': 2, 'Hellion': 1},\n",
       " {'Marine': 2, 'SCV': 2, 'Medivac': 0, 'Hellion': 2},\n",
       " {'Marine': 2, 'SCV': 2, 'Medivac': 0, 'Hellion': 0},\n",
       " {'Marine': 2, 'SCV': 2, 'Medivac': 0, 'Hellion': 1},\n",
       " {'Marine': 2, 'SCV': 2, 'Medivac': 1, 'Hellion': 2},\n",
       " {'Marine': 2, 'SCV': 2, 'Medivac': 1, 'Hellion': 0},\n",
       " {'Marine': 2, 'SCV': 2, 'Medivac': 1, 'Hellion': 1},\n",
       " {'Marine': 2, 'SCV': 2, 'Medivac': 2, 'Hellion': 0},\n",
       " {'Marine': 2, 'SCV': 2, 'Medivac': 2, 'Hellion': 1}]"
      ]
     },
     "execution_count": 9,
     "metadata": {},
     "output_type": "execute_result"
    }
   ],
   "source": [
    "init_army_comps('Terran')"
   ]
  },
  {
   "cell_type": "code",
   "execution_count": 6,
   "id": "d0b58e29",
   "metadata": {},
   "outputs": [],
   "source": [
    "def extra_Motherships(comp):\n",
    "    \"\"\"\n",
    "    Input is an army composition\n",
    "    Returns True if more than one Mothership is\n",
    "    in that army, else returns False\n",
    "    \"\"\"\n",
    "    if 'Mothership' in comp:\n",
    "        if comp['Mothership'] > 1:\n",
    "            return True\n",
    "    else:\n",
    "        return False"
   ]
  },
  {
   "cell_type": "code",
   "execution_count": 7,
   "id": "3dfb80df",
   "metadata": {},
   "outputs": [],
   "source": [
    "def get_army_supply(comp):\n",
    "    \"\"\"\n",
    "    Input is an army composition\n",
    "    Returns the total supply used by that army\n",
    "    \"\"\"\n",
    "    supply_total = 0\n",
    "    Units = get_Units()\n",
    "    for name in comp:\n",
    "        supply = Units[name]['supply'] * comp[name]\n",
    "        supply_total += supply\n",
    "    return supply_total"
   ]
  },
  {
   "cell_type": "markdown",
   "id": "9a60bd29",
   "metadata": {},
   "source": [
    "Main function for our linear program will be below"
   ]
  },
  {
   "cell_type": "code",
   "execution_count": null,
   "id": "be6372a6",
   "metadata": {},
   "outputs": [],
   "source": [
    "def find_optimal_army(enemy_comp, test_type='cost', race='Terran', viab='units'):\n",
    "    \"\"\"\n",
    "    Input is the army composition we are trying to optimize against\n",
    "    test_type is a string, either \"cost\" or \"time\", determines what we\n",
    "    are optimizing for. race is a string, either \"Terran\", \"Protoss\", or \"Zerg\",\n",
    "    that we are creating our test army from.\n",
    "    viab is a string, either 'units', 'health', or 'damage' that determines\n",
    "    our viability function\n",
    "    Finds an army composition of the given race that is the most efficent in terms of test_type\n",
    "    Returns that optimal army composition\n",
    "    \"\"\"\n",
    "    army_model = Model(\"StarCraftII Army\")\n",
    "    \n",
    "    \n",
    "    "
   ]
  }
 ],
 "metadata": {
  "kernelspec": {
   "display_name": "Python 3 (ipykernel)",
   "language": "python",
   "name": "python3"
  },
  "language_info": {
   "codemirror_mode": {
    "name": "ipython",
    "version": 3
   },
   "file_extension": ".py",
   "mimetype": "text/x-python",
   "name": "python",
   "nbconvert_exporter": "python",
   "pygments_lexer": "ipython3",
   "version": "3.7.10"
  }
 },
 "nbformat": 4,
 "nbformat_minor": 5
}
