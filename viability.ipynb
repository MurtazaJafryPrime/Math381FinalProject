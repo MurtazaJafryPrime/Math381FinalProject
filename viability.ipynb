{
 "cells": [
  {
   "cell_type": "code",
   "execution_count": 1,
   "id": "151738e1",
   "metadata": {
    "scrolled": true
   },
   "outputs": [],
   "source": [
    "from simulator import combat_sim\n",
    "from simulator import test_units\n",
    "from simulator import get_health\n",
    "from simulator import get_damage"
   ]
  },
  {
   "cell_type": "code",
   "execution_count": 2,
   "id": "4d69248c",
   "metadata": {},
   "outputs": [],
   "source": [
    "Units = test_units()"
   ]
  },
  {
   "cell_type": "code",
   "execution_count": 3,
   "id": "df2a57d0",
   "metadata": {},
   "outputs": [],
   "source": [
    "# test enemy army\n",
    "enemy_army_comp = {}\n",
    "enemy_army_comp['SCV'] = 10\n",
    "enemy_army_comp['Marine'] = 10\n",
    "enemy_army_comp['Medivac'] = 5\n",
    "\n",
    "# test test_army\n",
    "test_army_comp = {}\n",
    "test_army_comp['SCV'] = 10\n",
    "test_army_comp['Marine'] = 12\n",
    "test_army_comp['Medivac'] = 5"
   ]
  },
  {
   "cell_type": "code",
   "execution_count": 4,
   "id": "1b95cdad",
   "metadata": {},
   "outputs": [
    {
     "data": {
      "text/plain": [
       "[Marine_HP:25.400000000000002,\n",
       " Marine_HP:35.2,\n",
       " Marine_HP:35.2,\n",
       " Marine_HP:13.73,\n",
       " Marine_HP:20.73,\n",
       " Marine_HP:1.1299999999999955,\n",
       " Marine_HP:15.600000000000001,\n",
       " Marine_HP:16.059999999999995,\n",
       " Marine_HP:9.729999999999993,\n",
       " Marine_HP:5.850000000000019,\n",
       " Marine_HP:35.2]"
      ]
     },
     "execution_count": 4,
     "metadata": {},
     "output_type": "execute_result"
    }
   ],
   "source": [
    "combat_sim(enemy_army_comp, test_army_comp)"
   ]
  },
  {
   "cell_type": "markdown",
   "id": "218aafdf",
   "metadata": {},
   "source": [
    "Function in our linear program to define \"viability\". By default, viability is described as an army comp that has at least 10% of its units remaining at least 90% of the time. Instead of just unit count, we might want to measure viability using total army health or damage. For example, if we have an army composed of 10 Marines and 1 Battlecruiser and only the Battlecruiser survives, we might still want to count that army as viable since that single Battlecruiser can do much more damage than a small group of Marines."
   ]
  },
  {
   "cell_type": "code",
   "execution_count": 5,
   "id": "4f77b414",
   "metadata": {},
   "outputs": [],
   "source": [
    "def viable(enemy_comp, test_comp, test_type='units'):\n",
    "    \"\"\"\n",
    "    Input is the enemy army composition, the army composition that\n",
    "    we are testing, and the type of viablity test we are running.\n",
    "    test_type is a string, either \"units\", \"health\", or \"damage\"\n",
    "    Runs simulation 200 times. If the test army has at\n",
    "    least 10% of its test type remaining 90% of the time, return 1\n",
    "    Otherwise return 0\n",
    "    \"\"\"\n",
    "    test_limit = 0\n",
    "    if test_type == 'units':\n",
    "        unit_count = 0\n",
    "        for unit in test_comp:\n",
    "            unit_count += test_comp[unit]\n",
    "        test_limit = 0.1 * unit_count\n",
    "    \n",
    "    if test_type == 'health':\n",
    "        army_health = 0\n",
    "        for unit in test_comp:\n",
    "            unit_hp = Units[unit]['hp']\n",
    "            army_health += unit_hp * test_comp[unit]\n",
    "        test_limit = 0.1 * army_health\n",
    "    if test_type == 'damage':\n",
    "        army_dmg = 0\n",
    "        for unit in test_comp:\n",
    "            unit_dmg = Units[unit]['dps']\n",
    "            army_dmg += unit_dmg * test_comp[unit]\n",
    "        test_limit = 0.1 * army_dmg\n",
    "    \n",
    "    wins = 0\n",
    "    sim_count = 200\n",
    "    sims = sim_count\n",
    "    while sims > 0:\n",
    "        test_army = combat_sim(enemy_comp, test_comp)\n",
    "        if (test_type == 'units') and (len(test_army) > test_limit):\n",
    "            wins += 1\n",
    "        elif (test_type == 'health') and (get_health(test_army) > test_limit):\n",
    "            wins += 1\n",
    "        elif (test_type == 'damage') and (get_damage(test_army) > test_limit):\n",
    "            wins += 1\n",
    "        sims -= 1\n",
    "    if (wins / sim_count) > 0.9:\n",
    "        return 1\n",
    "    else:\n",
    "        return 0"
   ]
  },
  {
   "cell_type": "code",
   "execution_count": 7,
   "id": "9fd052f4",
   "metadata": {},
   "outputs": [
    {
     "data": {
      "text/plain": [
       "1"
      ]
     },
     "execution_count": 7,
     "metadata": {},
     "output_type": "execute_result"
    }
   ],
   "source": [
    "viable(enemy_army_comp, test_army_comp, 'damage')"
   ]
  },
  {
   "cell_type": "markdown",
   "id": "d26ff0e5",
   "metadata": {},
   "source": []
  }
 ],
 "metadata": {
  "kernelspec": {
   "display_name": "Python 3 (ipykernel)",
   "language": "python",
   "name": "python3"
  },
  "language_info": {
   "codemirror_mode": {
    "name": "ipython",
    "version": 3
   },
   "file_extension": ".py",
   "mimetype": "text/x-python",
   "name": "python",
   "nbconvert_exporter": "python",
   "pygments_lexer": "ipython3",
   "version": "3.7.10"
  }
 },
 "nbformat": 4,
 "nbformat_minor": 5
}
